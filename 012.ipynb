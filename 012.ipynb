{
 "cells": [
  {
   "cell_type": "markdown",
   "metadata": {},
   "source": [
    "# Initialization"
   ]
  },
  {
   "cell_type": "code",
   "execution_count": 2,
   "metadata": {},
   "outputs": [],
   "source": [
    "# Python ≥3.5 is required\n",
    "import sys\n",
    "assert sys.version_info >= (3, 5)\n",
    "\n",
    "# Scikit-Learn ≥0.20 is required\n",
    "import sklearn\n",
    "assert sklearn.__version__ >= \"0.20\"\n",
    "\n",
    "# TensorFlow ≥2.0 is required\n",
    "import tensorflow as tf\n",
    "from tensorflow import keras\n",
    "assert tf.__version__ >= \"2.0\"\n",
    "\n",
    "%load_ext tensorboard\n",
    "\n",
    "# Common imports\n",
    "import numpy as np\n",
    "import os\n",
    "\n",
    "# to make this notebook's output stable across runs\n",
    "np.random.seed(42)\n",
    "\n",
    "# To plot pretty figures\n",
    "%matplotlib inline\n",
    "import matplotlib as mpl\n",
    "import matplotlib.pyplot as plt\n",
    "mpl.rc('axes', labelsize=14)\n",
    "mpl.rc('xtick', labelsize=12)\n",
    "mpl.rc('ytick', labelsize=12)\n",
    "\n",
    "# Where to save the figures\n",
    "PROJECT_ROOT_DIR = \".\"\n",
    "CHAPTER_ID = \"deep\"\n",
    "IMAGES_PATH = os.path.join(PROJECT_ROOT_DIR, \"images\", CHAPTER_ID)\n",
    "os.makedirs(IMAGES_PATH, exist_ok=True)\n",
    "\n",
    "def save_fig(fig_id, tight_layout=True, fig_extension=\"png\", resolution=300):\n",
    "    path = os.path.join(IMAGES_PATH, fig_id + \".\" + fig_extension)\n",
    "    print(\"Saving figure\", fig_id)\n",
    "    if tight_layout:\n",
    "        plt.tight_layout()\n",
    "    plt.savefig(path, format=fig_extension, dpi=resolution)"
   ]
  },
  {
   "cell_type": "markdown",
   "metadata": {},
   "source": [
    "# Xavier and He Initialization"
   ]
  },
  {
   "cell_type": "code",
   "execution_count": 3,
   "metadata": {},
   "outputs": [
    {
     "data": {
      "text/plain": [
       "['Constant',\n",
       " 'GlorotNormal',\n",
       " 'GlorotUniform',\n",
       " 'Identity',\n",
       " 'Initializer',\n",
       " 'Ones',\n",
       " 'Orthogonal',\n",
       " 'RandomNormal',\n",
       " 'RandomUniform',\n",
       " 'TruncatedNormal',\n",
       " 'VarianceScaling',\n",
       " 'Zeros',\n",
       " 'constant',\n",
       " 'deserialize',\n",
       " 'get',\n",
       " 'glorot_normal',\n",
       " 'glorot_uniform',\n",
       " 'he_normal',\n",
       " 'he_uniform',\n",
       " 'identity',\n",
       " 'lecun_normal',\n",
       " 'lecun_uniform',\n",
       " 'ones',\n",
       " 'orthogonal',\n",
       " 'serialize',\n",
       " 'zeros']"
      ]
     },
     "execution_count": 3,
     "metadata": {},
     "output_type": "execute_result"
    }
   ],
   "source": [
    "[name for name in dir(keras.initializers) if not name.startswith(\"_\")]"
   ]
  },
  {
   "cell_type": "code",
   "execution_count": 4,
   "metadata": {},
   "outputs": [
    {
     "data": {
      "text/plain": [
       "<tensorflow.python.keras.layers.core.Dense at 0x247fe908908>"
      ]
     },
     "execution_count": 4,
     "metadata": {},
     "output_type": "execute_result"
    }
   ],
   "source": [
    "keras.layers.Dense(10, activation=\"relu\", kernel_initializer=\"he_normal\")"
   ]
  },
  {
   "cell_type": "code",
   "execution_count": 5,
   "metadata": {},
   "outputs": [
    {
     "data": {
      "text/plain": [
       "<tensorflow.python.keras.layers.core.Dense at 0x247fe908e48>"
      ]
     },
     "execution_count": 5,
     "metadata": {},
     "output_type": "execute_result"
    }
   ],
   "source": [
    "init = keras.initializers.VarianceScaling(scale=2., mode='fan_avg',\n",
    "                                          distribution='uniform')\n",
    "keras.layers.Dense(10, activation=\"relu\", kernel_initializer=init)"
   ]
  },
  {
   "cell_type": "markdown",
   "metadata": {},
   "source": [
    "# Nonsaturating Activation Functions"
   ]
  },
  {
   "cell_type": "code",
   "execution_count": 6,
   "metadata": {},
   "outputs": [
    {
     "data": {
      "text/plain": [
       "['deserialize',\n",
       " 'elu',\n",
       " 'exponential',\n",
       " 'get',\n",
       " 'hard_sigmoid',\n",
       " 'linear',\n",
       " 'relu',\n",
       " 'selu',\n",
       " 'serialize',\n",
       " 'sigmoid',\n",
       " 'softmax',\n",
       " 'softplus',\n",
       " 'softsign',\n",
       " 'tanh']"
      ]
     },
     "execution_count": 6,
     "metadata": {},
     "output_type": "execute_result"
    }
   ],
   "source": [
    "[m for m in dir(keras.activations) if not m.startswith(\"_\")]"
   ]
  },
  {
   "cell_type": "code",
   "execution_count": 7,
   "metadata": {},
   "outputs": [],
   "source": [
    "(X_train_full, y_train_full), (X_test, y_test) = keras.datasets.fashion_mnist.load_data()\n",
    "X_train_full = X_train_full / 255.0\n",
    "X_test = X_test / 255.0\n",
    "X_valid, X_train = X_train_full[:5000], X_train_full[5000:]\n",
    "y_valid, y_train = y_train_full[:5000], y_train_full[5000:]"
   ]
  },
  {
   "cell_type": "code",
   "execution_count": 8,
   "metadata": {},
   "outputs": [],
   "source": [
    "tf.random.set_seed(42)\n",
    "np.random.seed(42)\n",
    "\n",
    "model = keras.models.Sequential([\n",
    "    keras.layers.Flatten(input_shape=[28, 28]),\n",
    "    keras.layers.Dense(300, kernel_initializer=\"he_normal\"),\n",
    "    keras.layers.LeakyReLU(),\n",
    "    keras.layers.Dense(100, kernel_initializer=\"he_normal\"),\n",
    "    keras.layers.LeakyReLU(),\n",
    "    keras.layers.Dense(10, activation=\"softmax\")\n",
    "])"
   ]
  },
  {
   "cell_type": "code",
   "execution_count": 9,
   "metadata": {},
   "outputs": [],
   "source": [
    "model.compile(loss=\"sparse_categorical_crossentropy\",\n",
    "              optimizer=keras.optimizers.SGD(lr=1e-3),\n",
    "              metrics=[\"accuracy\"])"
   ]
  },
  {
   "cell_type": "code",
   "execution_count": 10,
   "metadata": {},
   "outputs": [
    {
     "name": "stdout",
     "output_type": "stream",
     "text": [
      "Train on 55000 samples, validate on 5000 samples\n",
      "Epoch 1/10\n",
      "55000/55000 [==============================] - 6s 100us/sample - loss: 1.2810 - accuracy: 0.6205 - val_loss: 0.8869 - val_accuracy: 0.7160\n",
      "Epoch 2/10\n",
      "55000/55000 [==============================] - 3s 54us/sample - loss: 0.7952 - accuracy: 0.7369 - val_loss: 0.7132 - val_accuracy: 0.7626\n",
      "Epoch 3/10\n",
      "55000/55000 [==============================] - 3s 54us/sample - loss: 0.6817 - accuracy: 0.7726 - val_loss: 0.6385 - val_accuracy: 0.7896\n",
      "Epoch 4/10\n",
      "55000/55000 [==============================] - 3s 53us/sample - loss: 0.6219 - accuracy: 0.7941 - val_loss: 0.5931 - val_accuracy: 0.8016\n",
      "Epoch 5/10\n",
      "55000/55000 [==============================] - 3s 54us/sample - loss: 0.5829 - accuracy: 0.8074 - val_loss: 0.5607 - val_accuracy: 0.8164\n",
      "Epoch 6/10\n",
      "55000/55000 [==============================] - 3s 54us/sample - loss: 0.5552 - accuracy: 0.8173 - val_loss: 0.5354 - val_accuracy: 0.8242\n",
      "Epoch 7/10\n",
      "55000/55000 [==============================] - 3s 53us/sample - loss: 0.5338 - accuracy: 0.8225 - val_loss: 0.5166 - val_accuracy: 0.8300\n",
      "Epoch 8/10\n",
      "55000/55000 [==============================] - 3s 53us/sample - loss: 0.5172 - accuracy: 0.8261 - val_loss: 0.5043 - val_accuracy: 0.8356\n",
      "Epoch 9/10\n",
      "55000/55000 [==============================] - 3s 53us/sample - loss: 0.5039 - accuracy: 0.8306 - val_loss: 0.4889 - val_accuracy: 0.8384\n",
      "Epoch 10/10\n",
      "55000/55000 [==============================] - 3s 54us/sample - loss: 0.4923 - accuracy: 0.8333 - val_loss: 0.4816 - val_accuracy: 0.8398\n"
     ]
    }
   ],
   "source": [
    "history = model.fit(X_train, y_train, epochs=10,\n",
    "                    validation_data=(X_valid, y_valid))"
   ]
  },
  {
   "cell_type": "code",
   "execution_count": 11,
   "metadata": {},
   "outputs": [],
   "source": [
    "tf.random.set_seed(42)\n",
    "np.random.seed(42)\n",
    "\n",
    "model = keras.models.Sequential([\n",
    "    keras.layers.Flatten(input_shape=[28, 28]),\n",
    "    keras.layers.Dense(300, kernel_initializer=\"he_normal\"),\n",
    "    keras.layers.PReLU(),\n",
    "    keras.layers.Dense(100, kernel_initializer=\"he_normal\"),\n",
    "    keras.layers.PReLU(),\n",
    "    keras.layers.Dense(10, activation=\"softmax\")\n",
    "])"
   ]
  },
  {
   "cell_type": "code",
   "execution_count": 12,
   "metadata": {},
   "outputs": [],
   "source": [
    "model.compile(loss=\"sparse_categorical_crossentropy\",\n",
    "              optimizer=keras.optimizers.SGD(lr=1e-3),\n",
    "              metrics=[\"accuracy\"])"
   ]
  },
  {
   "cell_type": "code",
   "execution_count": 13,
   "metadata": {},
   "outputs": [
    {
     "name": "stdout",
     "output_type": "stream",
     "text": [
      "Train on 55000 samples, validate on 5000 samples\n",
      "Epoch 1/10\n",
      "55000/55000 [==============================] - 4s 65us/sample - loss: 1.3452 - accuracy: 0.6203 - val_loss: 0.9241 - val_accuracy: 0.7170\n",
      "Epoch 2/10\n",
      "55000/55000 [==============================] - 3s 59us/sample - loss: 0.8196 - accuracy: 0.7364 - val_loss: 0.7314 - val_accuracy: 0.7602\n",
      "Epoch 3/10\n",
      "55000/55000 [==============================] - 3s 57us/sample - loss: 0.6970 - accuracy: 0.7702 - val_loss: 0.6517 - val_accuracy: 0.7876\n",
      "Epoch 4/10\n",
      "55000/55000 [==============================] - 3s 58us/sample - loss: 0.6333 - accuracy: 0.7914 - val_loss: 0.6033 - val_accuracy: 0.8058\n",
      "Epoch 5/10\n",
      "55000/55000 [==============================] - 3s 57us/sample - loss: 0.5917 - accuracy: 0.8049 - val_loss: 0.5689 - val_accuracy: 0.8164\n",
      "Epoch 6/10\n",
      "55000/55000 [==============================] - 3s 58us/sample - loss: 0.5619 - accuracy: 0.8144 - val_loss: 0.5417 - val_accuracy: 0.8222\n",
      "Epoch 7/10\n",
      "55000/55000 [==============================] - 3s 57us/sample - loss: 0.5392 - accuracy: 0.8206 - val_loss: 0.5214 - val_accuracy: 0.8300\n",
      "Epoch 8/10\n",
      "55000/55000 [==============================] - 3s 57us/sample - loss: 0.5215 - accuracy: 0.8256 - val_loss: 0.5075 - val_accuracy: 0.8352\n",
      "Epoch 9/10\n",
      "55000/55000 [==============================] - 3s 58us/sample - loss: 0.5071 - accuracy: 0.8286 - val_loss: 0.4917 - val_accuracy: 0.8384\n",
      "Epoch 10/10\n",
      "55000/55000 [==============================] - 3s 59us/sample - loss: 0.4946 - accuracy: 0.8320 - val_loss: 0.4839 - val_accuracy: 0.8376\n"
     ]
    }
   ],
   "source": [
    "history = model.fit(X_train, y_train, epochs=10,\n",
    "                    validation_data=(X_valid, y_valid))"
   ]
  },
  {
   "cell_type": "code",
   "execution_count": 14,
   "metadata": {},
   "outputs": [],
   "source": [
    "def elu(z, alpha=1):\n",
    "    return np.where(z < 0, alpha * (np.exp(z) - 1), z)"
   ]
  },
  {
   "cell_type": "code",
   "execution_count": 16,
   "metadata": {},
   "outputs": [
    {
     "name": "stdout",
     "output_type": "stream",
     "text": [
      "Saving figure elu_plot\n"
     ]
    },
    {
     "data": {
      "image/png": "[encoded data removed]",
      "text/plain": [
       "<Figure size 432x288 with 1 Axes>"
      ]
     },
     "metadata": {
      "needs_background": "light"
     },
     "output_type": "display_data"
    }
   ],
   "source": [
    "z = np.linspace(-5, 5, 200)\n",
    "\n",
    "plt.plot(z, elu(z), \"b-\", linewidth=2)\n",
    "plt.plot([-5, 5], [0, 0], 'k-')\n",
    "plt.plot([-5, 5], [-1, -1], 'k--')\n",
    "plt.plot([0, 0], [-2.2, 3.2], 'k-')\n",
    "plt.grid(True)\n",
    "plt.title(r\"ELU activation function ($\\alpha=1$)\", fontsize=14)\n",
    "plt.axis([-5, 5, -2.2, 3.2])\n",
    "\n",
    "save_fig(\"elu_plot\")\n",
    "plt.show()"
   ]
  },
  {
   "cell_type": "code",
   "execution_count": 17,
   "metadata": {},
   "outputs": [
    {
     "data": {
      "text/plain": [
       "<tensorflow.python.keras.layers.core.Dense at 0x2478c142948>"
      ]
     },
     "execution_count": 17,
     "metadata": {},
     "output_type": "execute_result"
    }
   ],
   "source": [
    "keras.layers.Dense(10, activation=\"elu\")"
   ]
  },
  {
   "cell_type": "code",
   "execution_count": 18,
   "metadata": {},
   "outputs": [],
   "source": [
    "np.random.seed(42)\n",
    "tf.random.set_seed(42)"
   ]
  },
  {
   "cell_type": "code",
   "execution_count": 19,
   "metadata": {},
   "outputs": [],
   "source": [
    "model = keras.models.Sequential()\n",
    "model.add(keras.layers.Flatten(input_shape=[28, 28]))\n",
    "model.add(keras.layers.Dense(300, activation=\"selu\",\n",
    "                             kernel_initializer=\"lecun_normal\"))\n",
    "for layer in range(99):\n",
    "    model.add(keras.layers.Dense(100, activation=\"selu\",\n",
    "                                 kernel_initializer=\"lecun_normal\"))\n",
    "model.add(keras.layers.Dense(10, activation=\"softmax\"))"
   ]
  },
  {
   "cell_type": "code",
   "execution_count": 20,
   "metadata": {},
   "outputs": [],
   "source": [
    "model.compile(loss=\"sparse_categorical_crossentropy\",\n",
    "              optimizer=keras.optimizers.SGD(lr=1e-3),\n",
    "              metrics=[\"accuracy\"])"
   ]
  },
  {
   "cell_type": "code",
   "execution_count": 21,
   "metadata": {},
   "outputs": [
    {
     "name": "stdout",
     "output_type": "stream",
     "text": [
      "Train on 55000 samples, validate on 5000 samples\n",
      "Epoch 1/5\n",
      "55000/55000 [==============================] - 20s 360us/sample - loss: 1.1558 - accuracy: 0.5592 - val_loss: 0.8964 - val_accuracy: 0.6488\n",
      "Epoch 2/5\n",
      "55000/55000 [==============================] - 17s 317us/sample - loss: 0.8153 - accuracy: 0.6876 - val_loss: 0.7265 - val_accuracy: 0.7274\n",
      "Epoch 3/5\n",
      "55000/55000 [==============================] - 17s 316us/sample - loss: 0.7815 - accuracy: 0.7148 - val_loss: 0.7316 - val_accuracy: 0.7278\n",
      "Epoch 4/5\n",
      "55000/55000 [==============================] - 17s 316us/sample - loss: 0.7364 - accuracy: 0.7339 - val_loss: 0.6408 - val_accuracy: 0.7650\n",
      "Epoch 5/5\n",
      "55000/55000 [==============================] - 17s 317us/sample - loss: 0.6470 - accuracy: 0.7632 - val_loss: 0.5619 - val_accuracy: 0.7880\n"
     ]
    }
   ],
   "source": [
    "pixel_means = X_train.mean(axis=0, keepdims=True)\n",
    "pixel_stds = X_train.std(axis=0, keepdims=True)\n",
    "X_train_scaled = (X_train - pixel_means) / pixel_stds\n",
    "X_valid_scaled = (X_valid - pixel_means) / pixel_stds\n",
    "X_test_scaled = (X_test - pixel_means) / pixel_stds\n",
    "\n",
    "history = model.fit(X_train_scaled, y_train, epochs=5,\n",
    "                    validation_data=(X_valid_scaled, y_valid))"
   ]
  },
  {
   "cell_type": "markdown",
   "metadata": {},
   "source": [
    "# Batch Normalization"
   ]
  },
  {
   "cell_type": "code",
   "execution_count": 22,
   "metadata": {},
   "outputs": [],
   "source": [
    "model = keras.models.Sequential([\n",
    "    keras.layers.Flatten(input_shape=[28, 28]),\n",
    "    keras.layers.BatchNormalization(),\n",
    "    keras.layers.Dense(300, activation=\"relu\"),\n",
    "    keras.layers.BatchNormalization(),\n",
    "    keras.layers.Dense(100, activation=\"relu\"),\n",
    "    keras.layers.BatchNormalization(),\n",
    "    keras.layers.Dense(10, activation=\"softmax\")\n",
    "])"
   ]
  },
  {
   "cell_type": "code",
   "execution_count": 23,
   "metadata": {},
   "outputs": [
    {
     "name": "stdout",
     "output_type": "stream",
     "text": [
      "Model: \"sequential_3\"\n",
      "_________________________________________________________________\n",
      "Layer (type)                 Output Shape              Param #   \n",
      "=================================================================\n",
      "flatten_3 (Flatten)          (None, 784)               0         \n",
      "_________________________________________________________________\n",
      "batch_normalization (BatchNo (None, 784)               3136      \n",
      "_________________________________________________________________\n",
      "dense_110 (Dense)            (None, 300)               235500    \n",
      "_________________________________________________________________\n",
      "batch_normalization_1 (Batch (None, 300)               1200      \n",
      "_________________________________________________________________\n",
      "dense_111 (Dense)            (None, 100)               30100     \n",
      "_________________________________________________________________\n",
      "batch_normalization_2 (Batch (None, 100)               400       \n",
      "_________________________________________________________________\n",
      "dense_112 (Dense)            (None, 10)                1010      \n",
      "=================================================================\n",
      "Total params: 271,346\n",
      "Trainable params: 268,978\n",
      "Non-trainable params: 2,368\n",
      "_________________________________________________________________\n"
     ]
    }
   ],
   "source": [
    "model.summary()"
   ]
  },
  {
   "cell_type": "code",
   "execution_count": 24,
   "metadata": {},
   "outputs": [
    {
     "data": {
      "text/plain": [
       "[('batch_normalization/gamma:0', True),\n",
       " ('batch_normalization/beta:0', True),\n",
       " ('batch_normalization/moving_mean:0', False),\n",
       " ('batch_normalization/moving_variance:0', False)]"
      ]
     },
     "execution_count": 24,
     "metadata": {},
     "output_type": "execute_result"
    }
   ],
   "source": [
    "bn1 = model.layers[1]\n",
    "[(var.name, var.trainable) for var in bn1.variables]"
   ]
  },
  {
   "cell_type": "code",
   "execution_count": 25,
   "metadata": {},
   "outputs": [
    {
     "data": {
      "text/plain": [
       "[<tf.Operation 'cond/Identity' type=Identity>,\n",
       " <tf.Operation 'cond_1/Identity' type=Identity>]"
      ]
     },
     "execution_count": 25,
     "metadata": {},
     "output_type": "execute_result"
    }
   ],
   "source": [
    "bn1.updates"
   ]
  },
  {
   "cell_type": "code",
   "execution_count": 26,
   "metadata": {},
   "outputs": [],
   "source": [
    "model.compile(loss=\"sparse_categorical_crossentropy\",\n",
    "              optimizer=keras.optimizers.SGD(lr=1e-3),\n",
    "              metrics=[\"accuracy\"])"
   ]
  },
  {
   "cell_type": "code",
   "execution_count": 27,
   "metadata": {},
   "outputs": [
    {
     "name": "stdout",
     "output_type": "stream",
     "text": [
      "Train on 55000 samples, validate on 5000 samples\n",
      "Epoch 1/10\n",
      "55000/55000 [==============================] - 5s 93us/sample - loss: 0.8761 - accuracy: 0.7122 - val_loss: 0.5509 - val_accuracy: 0.8230\n",
      "Epoch 2/10\n",
      "55000/55000 [==============================] - 5s 92us/sample - loss: 0.5737 - accuracy: 0.8037 - val_loss: 0.4722 - val_accuracy: 0.8456\n",
      "Epoch 3/10\n",
      "55000/55000 [==============================] - 5s 83us/sample - loss: 0.5142 - accuracy: 0.8229 - val_loss: 0.4376 - val_accuracy: 0.8576\n",
      "Epoch 4/10\n",
      "55000/55000 [==============================] - 5s 82us/sample - loss: 0.4826 - accuracy: 0.8327 - val_loss: 0.4134 - val_accuracy: 0.8644\n",
      "Epoch 5/10\n",
      "55000/55000 [==============================] - 4s 81us/sample - loss: 0.4570 - accuracy: 0.8413 - val_loss: 0.3989 - val_accuracy: 0.8650\n",
      "Epoch 6/10\n",
      "55000/55000 [==============================] - 5s 82us/sample - loss: 0.4432 - accuracy: 0.8454 - val_loss: 0.3870 - val_accuracy: 0.8696\n",
      "Epoch 7/10\n",
      "55000/55000 [==============================] - 4s 81us/sample - loss: 0.4255 - accuracy: 0.8513 - val_loss: 0.3783 - val_accuracy: 0.8702\n",
      "Epoch 8/10\n",
      "55000/55000 [==============================] - 4s 81us/sample - loss: 0.4149 - accuracy: 0.8532 - val_loss: 0.3709 - val_accuracy: 0.8746\n",
      "Epoch 9/10\n",
      "55000/55000 [==============================] - 4s 82us/sample - loss: 0.4015 - accuracy: 0.8599 - val_loss: 0.3637 - val_accuracy: 0.8754\n",
      "Epoch 10/10\n",
      "55000/55000 [==============================] - 5s 83us/sample - loss: 0.3915 - accuracy: 0.8630 - val_loss: 0.3601 - val_accuracy: 0.8754\n"
     ]
    }
   ],
   "source": [
    "history = model.fit(X_train, y_train, epochs=10,\n",
    "                    validation_data=(X_valid, y_valid))"
   ]
  },
  {
   "cell_type": "code",
   "execution_count": 28,
   "metadata": {},
   "outputs": [],
   "source": [
    "# Alternatively, add BN before activation function\n",
    "\n",
    "model = keras.models.Sequential([\n",
    "    keras.layers.Flatten(input_shape=[28, 28]),\n",
    "    keras.layers.BatchNormalization(),\n",
    "    keras.layers.Dense(300, use_bias=False),\n",
    "    keras.layers.BatchNormalization(),\n",
    "    keras.layers.Activation(\"relu\"),\n",
    "    keras.layers.Dense(100, use_bias=False),\n",
    "    keras.layers.BatchNormalization(),\n",
    "    keras.layers.Activation(\"relu\"),\n",
    "    keras.layers.Dense(10, activation=\"softmax\")\n",
    "])"
   ]
  },
  {
   "cell_type": "code",
   "execution_count": 29,
   "metadata": {},
   "outputs": [
    {
     "name": "stdout",
     "output_type": "stream",
     "text": [
      "Train on 55000 samples, validate on 5000 samples\n",
      "Epoch 1/10\n",
      "55000/55000 [==============================] - 5s 93us/sample - loss: 1.0334 - accuracy: 0.6755 - val_loss: 0.6738 - val_accuracy: 0.7832\n",
      "Epoch 2/10\n",
      "55000/55000 [==============================] - 5s 85us/sample - loss: 0.6761 - accuracy: 0.7821 - val_loss: 0.5562 - val_accuracy: 0.8194\n",
      "Epoch 3/10\n",
      "55000/55000 [==============================] - 5s 85us/sample - loss: 0.5929 - accuracy: 0.8057 - val_loss: 0.5006 - val_accuracy: 0.8370\n",
      "Epoch 4/10\n",
      "55000/55000 [==============================] - 5s 84us/sample - loss: 0.5467 - accuracy: 0.8160 - val_loss: 0.4652 - val_accuracy: 0.8454\n",
      "Epoch 5/10\n",
      "55000/55000 [==============================] - 5s 87us/sample - loss: 0.5114 - accuracy: 0.8270 - val_loss: 0.4427 - val_accuracy: 0.8518\n",
      "Epoch 6/10\n",
      "55000/55000 [==============================] - 5s 84us/sample - loss: 0.4903 - accuracy: 0.8333 - val_loss: 0.4264 - val_accuracy: 0.8544\n",
      "Epoch 7/10\n",
      "55000/55000 [==============================] - 5s 84us/sample - loss: 0.4723 - accuracy: 0.8377 - val_loss: 0.4127 - val_accuracy: 0.8570\n",
      "Epoch 8/10\n",
      "55000/55000 [==============================] - 5s 84us/sample - loss: 0.4573 - accuracy: 0.8427 - val_loss: 0.4032 - val_accuracy: 0.8612\n",
      "Epoch 9/10\n",
      "55000/55000 [==============================] - 5s 85us/sample - loss: 0.4433 - accuracy: 0.8470 - val_loss: 0.3943 - val_accuracy: 0.8636\n",
      "Epoch 10/10\n",
      "55000/55000 [==============================] - 5s 85us/sample - loss: 0.4332 - accuracy: 0.8515 - val_loss: 0.3874 - val_accuracy: 0.8662\n"
     ]
    }
   ],
   "source": [
    "model.compile(loss=\"sparse_categorical_crossentropy\",\n",
    "              optimizer=keras.optimizers.SGD(lr=1e-3),\n",
    "              metrics=[\"accuracy\"])\n",
    "\n",
    "history = model.fit(X_train, y_train, epochs=10,\n",
    "                    validation_data=(X_valid, y_valid))"
   ]
  },
  {
   "cell_type": "markdown",
   "metadata": {},
   "source": [
    "# Gradient Clipping"
   ]
  },
  {
   "cell_type": "code",
   "execution_count": 30,
   "metadata": {},
   "outputs": [],
   "source": [
    "optimizer = keras.optimizers.SGD(clipvalue=1.0)"
   ]
  },
  {
   "cell_type": "code",
   "execution_count": 31,
   "metadata": {},
   "outputs": [],
   "source": [
    "optimizer = keras.optimizers.SGD(clipnorm=1.0)"
   ]
  },
  {
   "cell_type": "markdown",
   "metadata": {},
   "source": [
    "# Supervised pretraining"
   ]
  },
  {
   "cell_type": "markdown",
   "metadata": {},
   "source": [
    "First we split the fashion MNIST training set:\n",
    "\n",
    "1) X_train_A: all items except for sandals and shirts (classes 5 and 6).\n",
    "\n",
    "2) X_train_B: a smaller set of 200 images of sandals or shirts."
   ]
  },
  {
   "cell_type": "code",
   "execution_count": 32,
   "metadata": {},
   "outputs": [],
   "source": [
    "def split_dataset(X, y):\n",
    "    y_5_or_6 = (y == 5) | (y == 6) # sandals or shirts\n",
    "    y_A = y[~y_5_or_6]\n",
    "    y_A[y_A > 6] -= 2 # class indices 7, 8, 9 should be moved to 5, 6, 7\n",
    "    y_B = (y[y_5_or_6] == 6).astype(np.float32) # binary classification task: is it a shirt (class 6)?\n",
    "    return ((X[~y_5_or_6], y_A),\n",
    "            (X[y_5_or_6], y_B))\n",
    "\n",
    "(X_train_A, y_train_A), (X_train_B, y_train_B) = split_dataset(X_train, y_train)\n",
    "(X_valid_A, y_valid_A), (X_valid_B, y_valid_B) = split_dataset(X_valid, y_valid)\n",
    "(X_test_A, y_test_A), (X_test_B, y_test_B) = split_dataset(X_test, y_test)\n",
    "X_train_B = X_train_B[:200]\n",
    "y_train_B = y_train_B[:200]"
   ]
  },
  {
   "cell_type": "code",
   "execution_count": 33,
   "metadata": {},
   "outputs": [
    {
     "data": {
      "text/plain": [
       "(43986, 28, 28)"
      ]
     },
     "execution_count": 33,
     "metadata": {},
     "output_type": "execute_result"
    }
   ],
   "source": [
    "X_train_A.shape"
   ]
  },
  {
   "cell_type": "code",
   "execution_count": 34,
   "metadata": {},
   "outputs": [
    {
     "data": {
      "text/plain": [
       "(200, 28, 28)"
      ]
     },
     "execution_count": 34,
     "metadata": {},
     "output_type": "execute_result"
    }
   ],
   "source": [
    "X_train_B.shape"
   ]
  },
  {
   "cell_type": "code",
   "execution_count": 35,
   "metadata": {},
   "outputs": [
    {
     "data": {
      "text/plain": [
       "array([4, 0, 5, 7, 7, 7, 4, 4, 3, 4, 0, 1, 6, 3, 4, 3, 2, 6, 5, 3, 4, 5,\n",
       "       1, 3, 4, 2, 0, 6, 7, 1], dtype=uint8)"
      ]
     },
     "execution_count": 35,
     "metadata": {},
     "output_type": "execute_result"
    }
   ],
   "source": [
    "y_train_A[:30]"
   ]
  },
  {
   "cell_type": "code",
   "execution_count": 36,
   "metadata": {},
   "outputs": [
    {
     "data": {
      "text/plain": [
       "array([1., 1., 0., 0., 0., 0., 1., 1., 1., 0., 0., 1., 1., 0., 0., 0., 0.,\n",
       "       0., 0., 1., 1., 0., 0., 1., 1., 0., 1., 1., 1., 1.], dtype=float32)"
      ]
     },
     "execution_count": 36,
     "metadata": {},
     "output_type": "execute_result"
    }
   ],
   "source": [
    "y_train_B[:30]"
   ]
  },
  {
   "cell_type": "code",
   "execution_count": 37,
   "metadata": {},
   "outputs": [],
   "source": [
    "tf.random.set_seed(42)\n",
    "np.random.seed(42)"
   ]
  },
  {
   "cell_type": "code",
   "execution_count": 38,
   "metadata": {},
   "outputs": [],
   "source": [
    "model_A = keras.models.Sequential()\n",
    "model_A.add(keras.layers.Flatten(input_shape=[28, 28]))\n",
    "for n_hidden in (300, 100, 50, 50, 50):\n",
    "    model_A.add(keras.layers.Dense(n_hidden, activation=\"selu\"))\n",
    "model_A.add(keras.layers.Dense(8, activation=\"softmax\"))"
   ]
  },
  {
   "cell_type": "code",
   "execution_count": 39,
   "metadata": {},
   "outputs": [
    {
     "name": "stdout",
     "output_type": "stream",
     "text": [
      "Train on 43986 samples, validate on 4014 samples\n",
      "Epoch 1/20\n",
      "43986/43986 [==============================] - 3s 66us/sample - loss: 0.5902 - accuracy: 0.8130 - val_loss: 0.3782 - val_accuracy: 0.8690\n",
      "Epoch 2/20\n",
      "43986/43986 [==============================] - 3s 60us/sample - loss: 0.3517 - accuracy: 0.8784 - val_loss: 0.3374 - val_accuracy: 0.8837\n",
      "Epoch 3/20\n",
      "43986/43986 [==============================] - 3s 60us/sample - loss: 0.3162 - accuracy: 0.8897 - val_loss: 0.3017 - val_accuracy: 0.8959\n",
      "Epoch 4/20\n",
      "43986/43986 [==============================] - 3s 60us/sample - loss: 0.2969 - accuracy: 0.8975 - val_loss: 0.2912 - val_accuracy: 0.9021\n",
      "Epoch 5/20\n",
      "43986/43986 [==============================] - 3s 60us/sample - loss: 0.2831 - accuracy: 0.9026 - val_loss: 0.2820 - val_accuracy: 0.9018\n",
      "Epoch 6/20\n",
      "43986/43986 [==============================] - 3s 60us/sample - loss: 0.2726 - accuracy: 0.9067 - val_loss: 0.2738 - val_accuracy: 0.9068\n",
      "Epoch 7/20\n",
      "43986/43986 [==============================] - 3s 60us/sample - loss: 0.2645 - accuracy: 0.9096 - val_loss: 0.2651 - val_accuracy: 0.9083\n",
      "Epoch 8/20\n",
      "43986/43986 [==============================] - 3s 60us/sample - loss: 0.2578 - accuracy: 0.9118 - val_loss: 0.2580 - val_accuracy: 0.9128\n",
      "Epoch 9/20\n",
      "43986/43986 [==============================] - 3s 59us/sample - loss: 0.2517 - accuracy: 0.9137 - val_loss: 0.2579 - val_accuracy: 0.9138\n",
      "Epoch 10/20\n",
      "43986/43986 [==============================] - 3s 58us/sample - loss: 0.2466 - accuracy: 0.9152 - val_loss: 0.2522 - val_accuracy: 0.9150\n",
      "Epoch 11/20\n",
      "43986/43986 [==============================] - 3s 58us/sample - loss: 0.2420 - accuracy: 0.9178 - val_loss: 0.2490 - val_accuracy: 0.9165\n",
      "Epoch 12/20\n",
      "43986/43986 [==============================] - 3s 59us/sample - loss: 0.2381 - accuracy: 0.9191 - val_loss: 0.2456 - val_accuracy: 0.9178\n",
      "Epoch 13/20\n",
      "43986/43986 [==============================] - 3s 61us/sample - loss: 0.2348 - accuracy: 0.9197 - val_loss: 0.2449 - val_accuracy: 0.9190\n",
      "Epoch 14/20\n",
      "43986/43986 [==============================] - 3s 59us/sample - loss: 0.2312 - accuracy: 0.9205 - val_loss: 0.2431 - val_accuracy: 0.9170\n",
      "Epoch 15/20\n",
      "43986/43986 [==============================] - 3s 58us/sample - loss: 0.2282 - accuracy: 0.9222 - val_loss: 0.2431 - val_accuracy: 0.9180\n",
      "Epoch 16/20\n",
      "43986/43986 [==============================] - 3s 59us/sample - loss: 0.2255 - accuracy: 0.9230 - val_loss: 0.2409 - val_accuracy: 0.9148\n",
      "Epoch 17/20\n",
      "43986/43986 [==============================] - 3s 58us/sample - loss: 0.2228 - accuracy: 0.9232 - val_loss: 0.2370 - val_accuracy: 0.9178\n",
      "Epoch 18/20\n",
      "43986/43986 [==============================] - 3s 60us/sample - loss: 0.2201 - accuracy: 0.9245 - val_loss: 0.2430 - val_accuracy: 0.9168\n",
      "Epoch 19/20\n",
      "43986/43986 [==============================] - 3s 60us/sample - loss: 0.2177 - accuracy: 0.9252 - val_loss: 0.2605 - val_accuracy: 0.9053\n",
      "Epoch 20/20\n",
      "43986/43986 [==============================] - 3s 60us/sample - loss: 0.2158 - accuracy: 0.9266 - val_loss: 0.2329 - val_accuracy: 0.9210\n"
     ]
    }
   ],
   "source": [
    "model_A.compile(loss=\"sparse_categorical_crossentropy\",\n",
    "                optimizer=keras.optimizers.SGD(lr=1e-3),\n",
    "                metrics=[\"accuracy\"])\n",
    "\n",
    "\n",
    "history = model_A.fit(X_train_A, y_train_A, epochs=20,\n",
    "                    validation_data=(X_valid_A, y_valid_A))"
   ]
  },
  {
   "cell_type": "code",
   "execution_count": 40,
   "metadata": {},
   "outputs": [],
   "source": [
    "model_A.save(\"my_model_A.h5\")"
   ]
  },
  {
   "cell_type": "code",
   "execution_count": 41,
   "metadata": {},
   "outputs": [],
   "source": [
    "model_B = keras.models.Sequential()\n",
    "model_B.add(keras.layers.Flatten(input_shape=[28, 28]))\n",
    "for n_hidden in (300, 100, 50, 50, 50):\n",
    "    model_B.add(keras.layers.Dense(n_hidden, activation=\"selu\"))\n",
    "model_B.add(keras.layers.Dense(1, activation=\"sigmoid\"))"
   ]
  },
  {
   "cell_type": "code",
   "execution_count": 42,
   "metadata": {},
   "outputs": [
    {
     "name": "stdout",
     "output_type": "stream",
     "text": [
      "Train on 200 samples, validate on 986 samples\n",
      "Epoch 1/20\n",
      "200/200 [==============================] - 0s 2ms/sample - loss: 0.9509 - accuracy: 0.4800 - val_loss: 0.6533 - val_accuracy: 0.5568\n",
      "Epoch 2/20\n",
      "200/200 [==============================] - 0s 328us/sample - loss: 0.5837 - accuracy: 0.7100 - val_loss: 0.4825 - val_accuracy: 0.8479\n",
      "Epoch 3/20\n",
      "200/200 [==============================] - 0s 326us/sample - loss: 0.4527 - accuracy: 0.8750 - val_loss: 0.4097 - val_accuracy: 0.8945\n",
      "Epoch 4/20\n",
      "200/200 [==============================] - 0s 310us/sample - loss: 0.3869 - accuracy: 0.9050 - val_loss: 0.3630 - val_accuracy: 0.9209\n",
      "Epoch 5/20\n",
      "200/200 [==============================] - 0s 288us/sample - loss: 0.3404 - accuracy: 0.9300 - val_loss: 0.3302 - val_accuracy: 0.9280\n",
      "Epoch 6/20\n",
      "200/200 [==============================] - 0s 327us/sample - loss: 0.3073 - accuracy: 0.9350 - val_loss: 0.3026 - val_accuracy: 0.9381\n",
      "Epoch 7/20\n",
      "200/200 [==============================] - 0s 305us/sample - loss: 0.2797 - accuracy: 0.9400 - val_loss: 0.2790 - val_accuracy: 0.9452\n",
      "Epoch 8/20\n",
      "200/200 [==============================] - 0s 282us/sample - loss: 0.2554 - accuracy: 0.9450 - val_loss: 0.2595 - val_accuracy: 0.9473\n",
      "Epoch 9/20\n",
      "200/200 [==============================] - 0s 283us/sample - loss: 0.2355 - accuracy: 0.9600 - val_loss: 0.2439 - val_accuracy: 0.9493\n",
      "Epoch 10/20\n",
      "200/200 [==============================] - 0s 291us/sample - loss: 0.2187 - accuracy: 0.9650 - val_loss: 0.2293 - val_accuracy: 0.9523\n",
      "Epoch 11/20\n",
      "200/200 [==============================] - 0s 280us/sample - loss: 0.2041 - accuracy: 0.9650 - val_loss: 0.2162 - val_accuracy: 0.9544\n",
      "Epoch 12/20\n",
      "200/200 [==============================] - 0s 295us/sample - loss: 0.1906 - accuracy: 0.9650 - val_loss: 0.2049 - val_accuracy: 0.9574\n",
      "Epoch 13/20\n",
      "200/200 [==============================] - 0s 288us/sample - loss: 0.1791 - accuracy: 0.9700 - val_loss: 0.1946 - val_accuracy: 0.9594\n",
      "Epoch 14/20\n",
      "200/200 [==============================] - 0s 218us/sample - loss: 0.1686 - accuracy: 0.9750 - val_loss: 0.1856 - val_accuracy: 0.9615\n",
      "Epoch 15/20\n",
      "200/200 [==============================] - 0s 254us/sample - loss: 0.1591 - accuracy: 0.9750 - val_loss: 0.1765 - val_accuracy: 0.9655\n",
      "Epoch 16/20\n",
      "200/200 [==============================] - 0s 325us/sample - loss: 0.1502 - accuracy: 0.9900 - val_loss: 0.1695 - val_accuracy: 0.9655\n",
      "Epoch 17/20\n",
      "200/200 [==============================] - 0s 297us/sample - loss: 0.1424 - accuracy: 0.9900 - val_loss: 0.1624 - val_accuracy: 0.9686\n",
      "Epoch 18/20\n",
      "200/200 [==============================] - 0s 290us/sample - loss: 0.1351 - accuracy: 0.9900 - val_loss: 0.1567 - val_accuracy: 0.9686\n",
      "Epoch 19/20\n",
      "200/200 [==============================] - 0s 287us/sample - loss: 0.1290 - accuracy: 0.9900 - val_loss: 0.1513 - val_accuracy: 0.9696\n",
      "Epoch 20/20\n",
      "200/200 [==============================] - 0s 298us/sample - loss: 0.1229 - accuracy: 0.9900 - val_loss: 0.1450 - val_accuracy: 0.9696\n"
     ]
    }
   ],
   "source": [
    "model_B.compile(loss=\"binary_crossentropy\",\n",
    "                optimizer=keras.optimizers.SGD(lr=1e-3),\n",
    "                metrics=[\"accuracy\"])\n",
    "\n",
    "history = model_B.fit(X_train_B, y_train_B, epochs=20,\n",
    "                      validation_data=(X_valid_B, y_valid_B))"
   ]
  },
  {
   "cell_type": "code",
   "execution_count": 43,
   "metadata": {
    "scrolled": true
   },
   "outputs": [
    {
     "name": "stdout",
     "output_type": "stream",
     "text": [
      "Model: \"sequential_4\"\n",
      "_________________________________________________________________\n",
      "Layer (type)                 Output Shape              Param #   \n",
      "=================================================================\n",
      "flatten_4 (Flatten)          (None, 784)               0         \n",
      "_________________________________________________________________\n",
      "batch_normalization_3 (Batch (None, 784)               3136      \n",
      "_________________________________________________________________\n",
      "dense_113 (Dense)            (None, 300)               235200    \n",
      "_________________________________________________________________\n",
      "batch_normalization_4 (Batch (None, 300)               1200      \n",
      "_________________________________________________________________\n",
      "activation (Activation)      (None, 300)               0         \n",
      "_________________________________________________________________\n",
      "dense_114 (Dense)            (None, 100)               30000     \n",
      "_________________________________________________________________\n",
      "batch_normalization_5 (Batch (None, 100)               400       \n",
      "_________________________________________________________________\n",
      "activation_1 (Activation)    (None, 100)               0         \n",
      "_________________________________________________________________\n",
      "dense_115 (Dense)            (None, 10)                1010      \n",
      "=================================================================\n",
      "Total params: 270,946\n",
      "Trainable params: 268,578\n",
      "Non-trainable params: 2,368\n",
      "_________________________________________________________________\n"
     ]
    }
   ],
   "source": [
    "model.summary()"
   ]
  },
  {
   "cell_type": "code",
   "execution_count": 44,
   "metadata": {},
   "outputs": [],
   "source": [
    "model_A = keras.models.load_model(\"my_model_A.h5\")\n",
    "model_B_on_A = keras.models.Sequential(model_A.layers[:-1])\n",
    "model_B_on_A.add(keras.layers.Dense(1, activation=\"sigmoid\"))"
   ]
  },
  {
   "cell_type": "code",
   "execution_count": 45,
   "metadata": {},
   "outputs": [],
   "source": [
    "# To have an unchanged version of model_A during supervised learning, clone it and its weights:\n",
    "\n",
    "model_A_clone = keras.models.clone_model(model_A)\n",
    "model_A_clone.set_weights(model_A.get_weights())"
   ]
  },
  {
   "cell_type": "code",
   "execution_count": 46,
   "metadata": {},
   "outputs": [
    {
     "name": "stdout",
     "output_type": "stream",
     "text": [
      "Train on 200 samples, validate on 986 samples\n",
      "Epoch 1/4\n",
      "200/200 [==============================] - 1s 4ms/sample - loss: 0.5619 - accuracy: 0.6700 - val_loss: 0.5676 - val_accuracy: 0.6521\n",
      "Epoch 2/4\n",
      "200/200 [==============================] - 0s 322us/sample - loss: 0.5249 - accuracy: 0.7200 - val_loss: 0.5343 - val_accuracy: 0.6937\n",
      "Epoch 3/4\n",
      "200/200 [==============================] - 0s 267us/sample - loss: 0.4922 - accuracy: 0.7400 - val_loss: 0.5044 - val_accuracy: 0.7181\n",
      "Epoch 4/4\n",
      "200/200 [==============================] - 0s 273us/sample - loss: 0.4628 - accuracy: 0.7600 - val_loss: 0.4778 - val_accuracy: 0.7394\n"
     ]
    }
   ],
   "source": [
    "for layer in model_B_on_A.layers[:-1]:\n",
    "    layer.trainable = False\n",
    "\n",
    "model_B_on_A.compile(loss=\"binary_crossentropy\",\n",
    "                     optimizer=keras.optimizers.SGD(lr=1e-3),\n",
    "                     metrics=[\"accuracy\"])\n",
    "\n",
    "history = model_B_on_A.fit(X_train_B, y_train_B, epochs=4,\n",
    "                           validation_data=(X_valid_B, y_valid_B))"
   ]
  },
  {
   "cell_type": "code",
   "execution_count": 47,
   "metadata": {},
   "outputs": [
    {
     "name": "stdout",
     "output_type": "stream",
     "text": [
      "Train on 200 samples, validate on 986 samples\n",
      "Epoch 1/16\n",
      "200/200 [==============================] - 0s 2ms/sample - loss: 0.3865 - accuracy: 0.8250 - val_loss: 0.3362 - val_accuracy: 0.8682\n",
      "Epoch 2/16\n",
      "200/200 [==============================] - 0s 321us/sample - loss: 0.2701 - accuracy: 0.9300 - val_loss: 0.2611 - val_accuracy: 0.9280\n",
      "Epoch 3/16\n",
      "200/200 [==============================] - 0s 305us/sample - loss: 0.2081 - accuracy: 0.9650 - val_loss: 0.2151 - val_accuracy: 0.9513\n",
      "Epoch 4/16\n",
      "200/200 [==============================] - 0s 300us/sample - loss: 0.1694 - accuracy: 0.9800 - val_loss: 0.1841 - val_accuracy: 0.9635\n",
      "Epoch 5/16\n",
      "200/200 [==============================] - 0s 312us/sample - loss: 0.1427 - accuracy: 0.9800 - val_loss: 0.1602 - val_accuracy: 0.9716\n",
      "Epoch 6/16\n",
      "200/200 [==============================] - 0s 299us/sample - loss: 0.1219 - accuracy: 0.9850 - val_loss: 0.1424 - val_accuracy: 0.9797\n",
      "Epoch 7/16\n",
      "200/200 [==============================] - 0s 299us/sample - loss: 0.1066 - accuracy: 0.9950 - val_loss: 0.1294 - val_accuracy: 0.9828\n",
      "Epoch 8/16\n",
      "200/200 [==============================] - 0s 298us/sample - loss: 0.0952 - accuracy: 0.9950 - val_loss: 0.1187 - val_accuracy: 0.9848\n",
      "Epoch 9/16\n",
      "200/200 [==============================] - 0s 303us/sample - loss: 0.0858 - accuracy: 0.9950 - val_loss: 0.1100 - val_accuracy: 0.9848\n",
      "Epoch 10/16\n",
      "200/200 [==============================] - 0s 293us/sample - loss: 0.0782 - accuracy: 1.0000 - val_loss: 0.1027 - val_accuracy: 0.9878\n",
      "Epoch 11/16\n",
      "200/200 [==============================] - 0s 304us/sample - loss: 0.0720 - accuracy: 1.0000 - val_loss: 0.0965 - val_accuracy: 0.9888\n",
      "Epoch 12/16\n",
      "200/200 [==============================] - 0s 298us/sample - loss: 0.0665 - accuracy: 1.0000 - val_loss: 0.0907 - val_accuracy: 0.9888\n",
      "Epoch 13/16\n",
      "200/200 [==============================] - 0s 328us/sample - loss: 0.0615 - accuracy: 1.0000 - val_loss: 0.0863 - val_accuracy: 0.9899\n",
      "Epoch 14/16\n",
      "200/200 [==============================] - 0s 297us/sample - loss: 0.0575 - accuracy: 1.0000 - val_loss: 0.0819 - val_accuracy: 0.9899\n",
      "Epoch 15/16\n",
      "200/200 [==============================] - 0s 312us/sample - loss: 0.0537 - accuracy: 1.0000 - val_loss: 0.0783 - val_accuracy: 0.9899\n",
      "Epoch 16/16\n",
      "200/200 [==============================] - 0s 304us/sample - loss: 0.0505 - accuracy: 1.0000 - val_loss: 0.0752 - val_accuracy: 0.9899\n"
     ]
    }
   ],
   "source": [
    "for layer in model_B_on_A.layers[:-1]:\n",
    "    layer.trainable = True\n",
    "\n",
    "model_B_on_A.compile(loss=\"binary_crossentropy\",\n",
    "                     optimizer=keras.optimizers.SGD(lr=1e-3),\n",
    "                     metrics=[\"accuracy\"])\n",
    "history = model_B_on_A.fit(X_train_B, y_train_B, epochs=16,\n",
    "                           validation_data=(X_valid_B, y_valid_B))"
   ]
  },
  {
   "cell_type": "code",
   "execution_count": 51,
   "metadata": {},
   "outputs": [
    {
     "name": "stdout",
     "output_type": "stream",
     "text": [
      "2000/2000 [==============================] - 0s 36us/sample - loss: 0.1426 - accuracy: 0.9695\n",
      "2000/2000 [==============================] - 0s 39us/sample - loss: 0.0697 - accuracy: 0.9925\n"
     ]
    },
    {
     "data": {
      "text/plain": [
       "4.066669845584086"
      ]
     },
     "execution_count": 51,
     "metadata": {},
     "output_type": "execute_result"
    }
   ],
   "source": [
    "_ , B_accuracy = model_B.evaluate(X_test_B, y_test_B);\n",
    "_ , B_on_A_accuracy = model_B_on_A.evaluate(X_test_B, y_test_B);\n",
    "\n",
    "(1 - B_accuracy) / (1 - B_on_A_accuracy)"
   ]
  },
  {
   "cell_type": "markdown",
   "metadata": {},
   "source": [
    "So, the error rate dropped by a factor of 4."
   ]
  },
  {
   "cell_type": "markdown",
   "metadata": {},
   "source": [
    "# Faster Optimizers"
   ]
  },
  {
   "cell_type": "code",
   "execution_count": 52,
   "metadata": {},
   "outputs": [],
   "source": [
    "# Momentum optimization\n",
    "optimizer = keras.optimizers.SGD(lr=0.001, momentum=0.9)\n",
    "\n",
    "# Nesterov Accelerated Gradient\n",
    "optimizer = keras.optimizers.SGD(lr=0.001, momentum=0.9, nesterov=True)\n",
    "\n",
    "# AdaGrad\n",
    "optimizer = keras.optimizers.Adagrad(lr=0.001)\n",
    "\n",
    "# RMSProp\n",
    "optimizer = keras.optimizers.RMSprop(lr=0.001, rho=0.9)\n",
    "\n",
    "# Adam Optimization\n",
    "optimizer = keras.optimizers.Adam(lr=0.001, beta_1=0.9, beta_2=0.999)\n",
    "\n",
    "# Adamax Optimization\n",
    "optimizer = keras.optimizers.Adamax(lr=0.001, beta_1=0.9, beta_2=0.999)\n",
    "\n",
    "# Nadam Optimization\n",
    "optimizer = keras.optimizers.Nadam(lr=0.001, beta_1=0.9, beta_2=0.999)"
   ]
  },
  {
   "cell_type": "markdown",
   "metadata": {},
   "source": [
    "# Learning Rate Scheduling"
   ]
  },
  {
   "cell_type": "markdown",
   "metadata": {},
   "source": [
    "### Power Scheduling"
   ]
  },
  {
   "cell_type": "code",
   "execution_count": null,
   "metadata": {},
   "outputs": [],
   "source": [
    "optimizer = keras.optimizers.SGD(lr=0.01, decay=1e-4)"
   ]
  },
  {
   "cell_type": "code",
   "execution_count": 53,
   "metadata": {},
   "outputs": [],
   "source": [
    "model = keras.models.Sequential([\n",
    "    keras.layers.Flatten(input_shape=[28, 28]),\n",
    "    keras.layers.Dense(300, activation=\"selu\", kernel_initializer=\"lecun_normal\"),\n",
    "    keras.layers.Dense(100, activation=\"selu\", kernel_initializer=\"lecun_normal\"),\n",
    "    keras.layers.Dense(10, activation=\"softmax\")\n",
    "])\n",
    "model.compile(loss=\"sparse_categorical_crossentropy\", optimizer=optimizer, metrics=[\"accuracy\"])"
   ]
  },
  {
   "cell_type": "code",
   "execution_count": 54,
   "metadata": {},
   "outputs": [
    {
     "name": "stdout",
     "output_type": "stream",
     "text": [
      "Train on 55000 samples, validate on 5000 samples\n",
      "Epoch 1/25\n",
      "55000/55000 [==============================] - 5s 92us/sample - loss: 0.4723 - accuracy: 0.8361 - val_loss: 0.3830 - val_accuracy: 0.8642\n",
      "Epoch 2/25\n",
      "55000/55000 [==============================] - 4s 69us/sample - loss: 0.3454 - accuracy: 0.8729 - val_loss: 0.3383 - val_accuracy: 0.8780\n",
      "Epoch 3/25\n",
      "55000/55000 [==============================] - 4s 72us/sample - loss: 0.3056 - accuracy: 0.8876 - val_loss: 0.3485 - val_accuracy: 0.8742\n",
      "Epoch 4/25\n",
      "55000/55000 [==============================] - 4s 72us/sample - loss: 0.2796 - accuracy: 0.8957 - val_loss: 0.3492 - val_accuracy: 0.8782\n",
      "Epoch 5/25\n",
      "55000/55000 [==============================] - 5s 82us/sample - loss: 0.2598 - accuracy: 0.9027 - val_loss: 0.3384 - val_accuracy: 0.8862\n",
      "Epoch 6/25\n",
      "55000/55000 [==============================] - 4s 79us/sample - loss: 0.2404 - accuracy: 0.9099 - val_loss: 0.3805 - val_accuracy: 0.8752\n",
      "Epoch 7/25\n",
      "55000/55000 [==============================] - 5s 83us/sample - loss: 0.2242 - accuracy: 0.9151 - val_loss: 0.3415 - val_accuracy: 0.8890\n",
      "Epoch 8/25\n",
      "55000/55000 [==============================] - 5s 84us/sample - loss: 0.2046 - accuracy: 0.9234 - val_loss: 0.3592 - val_accuracy: 0.8868\n",
      "Epoch 9/25\n",
      "55000/55000 [==============================] - 5s 89us/sample - loss: 0.1965 - accuracy: 0.9270 - val_loss: 0.3835 - val_accuracy: 0.8858\n",
      "Epoch 10/25\n",
      "55000/55000 [==============================] - 5s 85us/sample - loss: 0.1840 - accuracy: 0.9308 - val_loss: 0.3724 - val_accuracy: 0.8842\n",
      "Epoch 11/25\n",
      "55000/55000 [==============================] - 5s 86us/sample - loss: 0.1715 - accuracy: 0.9357 - val_loss: 0.4136 - val_accuracy: 0.8840\n",
      "Epoch 12/25\n",
      "55000/55000 [==============================] - 5s 88us/sample - loss: 0.1631 - accuracy: 0.9394 - val_loss: 0.4205 - val_accuracy: 0.8824\n",
      "Epoch 13/25\n",
      "55000/55000 [==============================] - 5s 86us/sample - loss: 0.1531 - accuracy: 0.9435 - val_loss: 0.4236 - val_accuracy: 0.8878\n",
      "Epoch 14/25\n",
      "55000/55000 [==============================] - 5s 88us/sample - loss: 0.1465 - accuracy: 0.9464 - val_loss: 0.4357 - val_accuracy: 0.8898\n",
      "Epoch 15/25\n",
      "55000/55000 [==============================] - 5s 90us/sample - loss: 0.1379 - accuracy: 0.9495 - val_loss: 0.4399 - val_accuracy: 0.8914\n",
      "Epoch 16/25\n",
      "55000/55000 [==============================] - 4s 81us/sample - loss: 0.1308 - accuracy: 0.9529 - val_loss: 0.4757 - val_accuracy: 0.8876\n",
      "Epoch 17/25\n",
      "55000/55000 [==============================] - 5s 89us/sample - loss: 0.1244 - accuracy: 0.9540 - val_loss: 0.5286 - val_accuracy: 0.8882\n",
      "Epoch 18/25\n",
      "55000/55000 [==============================] - 5s 87us/sample - loss: 0.1189 - accuracy: 0.9569 - val_loss: 0.5000 - val_accuracy: 0.8996\n",
      "Epoch 19/25\n",
      "55000/55000 [==============================] - 5s 84us/sample - loss: 0.1139 - accuracy: 0.9585 - val_loss: 0.5494 - val_accuracy: 0.8812\n",
      "Epoch 20/25\n",
      "55000/55000 [==============================] - 5s 92us/sample - loss: 0.1115 - accuracy: 0.9591 - val_loss: 0.5637 - val_accuracy: 0.8920\n",
      "Epoch 21/25\n",
      "55000/55000 [==============================] - 5s 83us/sample - loss: 0.1066 - accuracy: 0.9624 - val_loss: 0.5365 - val_accuracy: 0.8928\n",
      "Epoch 22/25\n",
      "55000/55000 [==============================] - 5s 85us/sample - loss: 0.0983 - accuracy: 0.9650 - val_loss: 0.5683 - val_accuracy: 0.8926\n",
      "Epoch 23/25\n",
      "55000/55000 [==============================] - 5s 88us/sample - loss: 0.1014 - accuracy: 0.9642 - val_loss: 0.5755 - val_accuracy: 0.8874\n",
      "Epoch 24/25\n",
      "55000/55000 [==============================] - 5s 84us/sample - loss: 0.0931 - accuracy: 0.9665 - val_loss: 0.6079 - val_accuracy: 0.8886\n",
      "Epoch 25/25\n",
      "55000/55000 [==============================] - 5s 97us/sample - loss: 0.0968 - accuracy: 0.9659 - val_loss: 0.5967 - val_accuracy: 0.8964\n"
     ]
    }
   ],
   "source": [
    "n_epochs = 25\n",
    "history = model.fit(X_train_scaled, y_train, epochs=n_epochs,\n",
    "                    validation_data=(X_valid_scaled, y_valid))"
   ]
  },
  {
   "cell_type": "markdown",
   "metadata": {},
   "source": [
    "## Exponential Scheduling"
   ]
  },
  {
   "cell_type": "code",
   "execution_count": 55,
   "metadata": {},
   "outputs": [],
   "source": [
    "# The schedule function can take epoch and lr as arguments:\n",
    "\n",
    "def exponential_decay(lr0, s):\n",
    "    def exponential_decay_fn(epoch):\n",
    "        return lr0 * 0.1**(epoch / s)\n",
    "    return exponential_decay_fn\n",
    "\n",
    "exponential_decay_fn = exponential_decay(lr0=0.01, s=20)"
   ]
  },
  {
   "cell_type": "code",
   "execution_count": 56,
   "metadata": {},
   "outputs": [],
   "source": [
    "model = keras.models.Sequential([\n",
    "    keras.layers.Flatten(input_shape=[28, 28]),\n",
    "    keras.layers.Dense(300, activation=\"selu\", kernel_initializer=\"lecun_normal\"),\n",
    "    keras.layers.Dense(100, activation=\"selu\", kernel_initializer=\"lecun_normal\"),\n",
    "    keras.layers.Dense(10, activation=\"softmax\")\n",
    "])\n",
    "model.compile(loss=\"sparse_categorical_crossentropy\", optimizer=\"nadam\", metrics=[\"accuracy\"])\n",
    "n_epochs = 25"
   ]
  },
  {
   "cell_type": "code",
   "execution_count": 57,
   "metadata": {},
   "outputs": [
    {
     "name": "stdout",
     "output_type": "stream",
     "text": [
      "Train on 55000 samples, validate on 5000 samples\n",
      "Epoch 1/25\n",
      "55000/55000 [==============================] - 5s 92us/sample - loss: 0.8582 - accuracy: 0.7551 - val_loss: 0.6840 - val_accuracy: 0.7208\n",
      "Epoch 2/25\n",
      "55000/55000 [==============================] - 4s 79us/sample - loss: 0.6948 - accuracy: 0.7927 - val_loss: 0.5689 - val_accuracy: 0.8076\n",
      "Epoch 3/25\n",
      "55000/55000 [==============================] - 4s 77us/sample - loss: 0.6328 - accuracy: 0.8084 - val_loss: 0.6285 - val_accuracy: 0.8274\n",
      "Epoch 4/25\n",
      "55000/55000 [==============================] - 4s 70us/sample - loss: 0.5837 - accuracy: 0.8218 - val_loss: 0.6375 - val_accuracy: 0.8396\n",
      "Epoch 5/25\n",
      "55000/55000 [==============================] - 5s 90us/sample - loss: 0.4894 - accuracy: 0.8475 - val_loss: 0.6127 - val_accuracy: 0.8134\n",
      "Epoch 6/25\n",
      "55000/55000 [==============================] - 5s 85us/sample - loss: 0.4659 - accuracy: 0.8546 - val_loss: 0.4972 - val_accuracy: 0.8422\n",
      "Epoch 7/25\n",
      "55000/55000 [==============================] - 5s 85us/sample - loss: 0.4250 - accuracy: 0.8651 - val_loss: 0.5517 - val_accuracy: 0.8540\n",
      "Epoch 8/25\n",
      "55000/55000 [==============================] - 5s 86us/sample - loss: 0.3952 - accuracy: 0.8735 - val_loss: 0.4771 - val_accuracy: 0.8502\n",
      "Epoch 9/25\n",
      "55000/55000 [==============================] - 5s 89us/sample - loss: 0.3592 - accuracy: 0.8824 - val_loss: 0.4554 - val_accuracy: 0.8752\n",
      "Epoch 10/25\n",
      "55000/55000 [==============================] - 5s 85us/sample - loss: 0.3325 - accuracy: 0.8909 - val_loss: 0.4832 - val_accuracy: 0.8776\n",
      "Epoch 11/25\n",
      "55000/55000 [==============================] - 5s 88us/sample - loss: 0.3189 - accuracy: 0.8943 - val_loss: 0.4534 - val_accuracy: 0.8650\n",
      "Epoch 12/25\n",
      "55000/55000 [==============================] - 5s 87us/sample - loss: 0.2964 - accuracy: 0.9029 - val_loss: 0.4525 - val_accuracy: 0.8738\n",
      "Epoch 13/25\n",
      "55000/55000 [==============================] - 5s 91us/sample - loss: 0.2737 - accuracy: 0.9076 - val_loss: 0.5012 - val_accuracy: 0.8790\n",
      "Epoch 14/25\n",
      "55000/55000 [==============================] - 5s 93us/sample - loss: 0.2573 - accuracy: 0.9128 - val_loss: 0.4691 - val_accuracy: 0.8836\n",
      "Epoch 15/25\n",
      "55000/55000 [==============================] - 5s 90us/sample - loss: 0.2386 - accuracy: 0.9194 - val_loss: 0.4929 - val_accuracy: 0.8760\n",
      "Epoch 16/25\n",
      "55000/55000 [==============================] - 5s 91us/sample - loss: 0.2201 - accuracy: 0.9250 - val_loss: 0.4625 - val_accuracy: 0.8834\n",
      "Epoch 17/25\n",
      "55000/55000 [==============================] - 5s 93us/sample - loss: 0.2063 - accuracy: 0.9308 - val_loss: 0.4895 - val_accuracy: 0.8860\n",
      "Epoch 18/25\n",
      "55000/55000 [==============================] - 5s 95us/sample - loss: 0.1972 - accuracy: 0.9339 - val_loss: 0.4869 - val_accuracy: 0.8818\n",
      "Epoch 19/25\n",
      "55000/55000 [==============================] - 5s 94us/sample - loss: 0.1829 - accuracy: 0.9370 - val_loss: 0.4954 - val_accuracy: 0.8880\n",
      "Epoch 20/25\n",
      "55000/55000 [==============================] - 5s 86us/sample - loss: 0.1668 - accuracy: 0.9429 - val_loss: 0.5044 - val_accuracy: 0.8884\n",
      "Epoch 21/25\n",
      "55000/55000 [==============================] - 5s 88us/sample - loss: 0.1571 - accuracy: 0.9465 - val_loss: 0.5319 - val_accuracy: 0.8880\n",
      "Epoch 22/25\n",
      "55000/55000 [==============================] - 5s 93us/sample - loss: 0.1485 - accuracy: 0.9511 - val_loss: 0.5559 - val_accuracy: 0.8876\n",
      "Epoch 23/25\n",
      "55000/55000 [==============================] - 5s 89us/sample - loss: 0.1394 - accuracy: 0.9535 - val_loss: 0.5569 - val_accuracy: 0.8838\n",
      "Epoch 24/25\n",
      "55000/55000 [==============================] - 5s 92us/sample - loss: 0.1328 - accuracy: 0.9553 - val_loss: 0.5997 - val_accuracy: 0.8864\n",
      "Epoch 25/25\n",
      "55000/55000 [==============================] - 4s 82us/sample - loss: 0.1241 - accuracy: 0.9591 - val_loss: 0.6007 - val_accuracy: 0.8848\n"
     ]
    }
   ],
   "source": [
    "lr_scheduler = keras.callbacks.LearningRateScheduler(exponential_decay_fn)\n",
    "history = model.fit(X_train_scaled, y_train, epochs=n_epochs,\n",
    "                    validation_data=(X_valid_scaled, y_valid),\n",
    "                    callbacks=[lr_scheduler])"
   ]
  },
  {
   "cell_type": "markdown",
   "metadata": {},
   "source": [
    "---------------------\n",
    "\n",
    "Its function can have both lr and epoch as arguments similarly.\n",
    "In this case, take care of the initial values of lr."
   ]
  },
  {
   "cell_type": "code",
   "execution_count": 63,
   "metadata": {},
   "outputs": [],
   "source": [
    "def exponential_decay_fn(epoch, lr):\n",
    "    return lr * 0.1**(1 / 20)"
   ]
  },
  {
   "cell_type": "code",
   "execution_count": 58,
   "metadata": {},
   "outputs": [
    {
     "name": "stdout",
     "output_type": "stream",
     "text": [
      "Train on 55000 samples, validate on 5000 samples\n",
      "Epoch 1/25\n",
      "55000/55000 [==============================] - 5s 88us/sample - loss: 0.7706 - accuracy: 0.7745 - val_loss: 0.7471 - val_accuracy: 0.7364\n",
      "Epoch 2/25\n",
      "55000/55000 [==============================] - 4s 78us/sample - loss: 0.6275 - accuracy: 0.8100 - val_loss: 0.6246 - val_accuracy: 0.8222\n",
      "Epoch 3/25\n",
      "55000/55000 [==============================] - 4s 80us/sample - loss: 0.5656 - accuracy: 0.8240 - val_loss: 0.5913 - val_accuracy: 0.8280\n",
      "Epoch 4/25\n",
      "55000/55000 [==============================] - 4s 80us/sample - loss: 0.4938 - accuracy: 0.8439 - val_loss: 0.7106 - val_accuracy: 0.7978\n",
      "Epoch 5/25\n",
      "55000/55000 [==============================] - 4s 78us/sample - loss: 0.4663 - accuracy: 0.8517 - val_loss: 0.5165 - val_accuracy: 0.8570\n",
      "Epoch 6/25\n",
      "55000/55000 [==============================] - 5s 89us/sample - loss: 0.4319 - accuracy: 0.8621 - val_loss: 0.5376 - val_accuracy: 0.8590\n",
      "Epoch 7/25\n",
      "55000/55000 [==============================] - 5s 85us/sample - loss: 0.3974 - accuracy: 0.8710 - val_loss: 0.4812 - val_accuracy: 0.8590\n",
      "Epoch 8/25\n",
      "55000/55000 [==============================] - 5s 87us/sample - loss: 0.3636 - accuracy: 0.8813 - val_loss: 0.4603 - val_accuracy: 0.8682\n",
      "Epoch 9/25\n",
      "55000/55000 [==============================] - 5s 88us/sample - loss: 0.3293 - accuracy: 0.8899 - val_loss: 0.4223 - val_accuracy: 0.8758\n",
      "Epoch 10/25\n",
      "55000/55000 [==============================] - 5s 90us/sample - loss: 0.3041 - accuracy: 0.8981 - val_loss: 0.4338 - val_accuracy: 0.8750\n",
      "Epoch 11/25\n",
      "55000/55000 [==============================] - 5s 89us/sample - loss: 0.2993 - accuracy: 0.8999 - val_loss: 0.4130 - val_accuracy: 0.8838\n",
      "Epoch 12/25\n",
      "55000/55000 [==============================] - 5s 93us/sample - loss: 0.2641 - accuracy: 0.9097 - val_loss: 0.4753 - val_accuracy: 0.8796\n",
      "Epoch 13/25\n",
      "55000/55000 [==============================] - 6s 102us/sample - loss: 0.2476 - accuracy: 0.9166 - val_loss: 0.4695 - val_accuracy: 0.8794\n",
      "Epoch 14/25\n",
      "55000/55000 [==============================] - 6s 101us/sample - loss: 0.2332 - accuracy: 0.9197 - val_loss: 0.4774 - val_accuracy: 0.8786\n",
      "Epoch 15/25\n",
      "55000/55000 [==============================] - 5s 92us/sample - loss: 0.2143 - accuracy: 0.9276 - val_loss: 0.4755 - val_accuracy: 0.8850\n",
      "Epoch 16/25\n",
      "55000/55000 [==============================] - 5s 92us/sample - loss: 0.1991 - accuracy: 0.9326 - val_loss: 0.4608 - val_accuracy: 0.8882\n",
      "Epoch 17/25\n",
      "55000/55000 [==============================] - 5s 86us/sample - loss: 0.1824 - accuracy: 0.9378 - val_loss: 0.4511 - val_accuracy: 0.8892\n",
      "Epoch 18/25\n",
      "55000/55000 [==============================] - 5s 90us/sample - loss: 0.1720 - accuracy: 0.9407 - val_loss: 0.4604 - val_accuracy: 0.8858\n",
      "Epoch 19/25\n",
      "55000/55000 [==============================] - 5s 91us/sample - loss: 0.1572 - accuracy: 0.9461 - val_loss: 0.4798 - val_accuracy: 0.8846\n",
      "Epoch 20/25\n",
      "55000/55000 [==============================] - 5s 99us/sample - loss: 0.1438 - accuracy: 0.9514 - val_loss: 0.4836 - val_accuracy: 0.8908\n",
      "Epoch 21/25\n",
      "55000/55000 [==============================] - 5s 98us/sample - loss: 0.1365 - accuracy: 0.9549 - val_loss: 0.5158 - val_accuracy: 0.8918\n",
      "Epoch 22/25\n",
      "55000/55000 [==============================] - 6s 102us/sample - loss: 0.1238 - accuracy: 0.9589 - val_loss: 0.5425 - val_accuracy: 0.8884\n",
      "Epoch 23/25\n",
      "55000/55000 [==============================] - 5s 87us/sample - loss: 0.1155 - accuracy: 0.9624 - val_loss: 0.5530 - val_accuracy: 0.8872\n",
      "Epoch 24/25\n",
      "55000/55000 [==============================] - 5s 90us/sample - loss: 0.1080 - accuracy: 0.9652 - val_loss: 0.5890 - val_accuracy: 0.8850\n",
      "Epoch 25/25\n",
      "55000/55000 [==============================] - 5s 87us/sample - loss: 0.1005 - accuracy: 0.9683 - val_loss: 0.6207 - val_accuracy: 0.8904\n"
     ]
    }
   ],
   "source": [
    "# If lr is updated at each batch:\n",
    "\n",
    "K = keras.backend\n",
    "\n",
    "class ExponentialDecay(keras.callbacks.Callback):\n",
    "    def __init__(self, s=40000):\n",
    "        super().__init__()\n",
    "        self.s = s\n",
    "\n",
    "    def on_batch_begin(self, batch, logs=None):\n",
    "        lr = K.get_value(self.model.optimizer.lr)\n",
    "        K.set_value(self.model.optimizer.lr, lr * 0.1**(1 / s))\n",
    "\n",
    "    def on_epoch_end(self, epoch, logs=None):\n",
    "        logs = logs or {}\n",
    "        logs['lr'] = K.get_value(self.model.optimizer.lr)\n",
    "\n",
    "model = keras.models.Sequential([\n",
    "    keras.layers.Flatten(input_shape=[28, 28]),\n",
    "    keras.layers.Dense(300, activation=\"selu\", kernel_initializer=\"lecun_normal\"),\n",
    "    keras.layers.Dense(100, activation=\"selu\", kernel_initializer=\"lecun_normal\"),\n",
    "    keras.layers.Dense(10, activation=\"softmax\")\n",
    "])\n",
    "lr0 = 0.01\n",
    "optimizer = keras.optimizers.Nadam(lr=lr0)\n",
    "model.compile(loss=\"sparse_categorical_crossentropy\", optimizer=optimizer, metrics=[\"accuracy\"])\n",
    "n_epochs = 25\n",
    "\n",
    "s = 20 * len(X_train) // 32     # number of steps in 20 epochs (batch size = 32)\n",
    "exp_decay = ExponentialDecay(s)\n",
    "history = model.fit(X_train_scaled, y_train, epochs=n_epochs,\n",
    "                    validation_data=(X_valid_scaled, y_valid),\n",
    "                    callbacks=[exp_decay])"
   ]
  },
  {
   "cell_type": "markdown",
   "metadata": {},
   "source": [
    "## Piecewise Constant Scheduling"
   ]
  },
  {
   "cell_type": "code",
   "execution_count": 64,
   "metadata": {},
   "outputs": [],
   "source": [
    "def piecewise_constant_fn(epoch):   # just for clarification\n",
    "    if epoch < 5:\n",
    "        return 0.01\n",
    "    elif epoch < 15:\n",
    "        return 0.005\n",
    "    else:\n",
    "        return 0.001\n",
    "\n",
    "\n",
    "def piecewise_constant(boundaries, values):\n",
    "    boundaries = np.array([0] + boundaries)\n",
    "    values = np.array(values)\n",
    "    def piecewise_constant_fn(epoch):\n",
    "        return values[np.argmax(boundaries > epoch) - 1]\n",
    "    return piecewise_constant_fn\n",
    "\n",
    "piecewise_constant_fn = piecewise_constant([5, 15], [0.01, 0.005, 0.001])"
   ]
  },
  {
   "cell_type": "code",
   "execution_count": 65,
   "metadata": {},
   "outputs": [
    {
     "name": "stdout",
     "output_type": "stream",
     "text": [
      "Train on 55000 samples, validate on 5000 samples\n",
      "Epoch 1/25\n",
      "55000/55000 [==============================] - 4s 78us/sample - loss: 0.8381 - accuracy: 0.7606 - val_loss: 1.0661 - val_accuracy: 0.7208\n",
      "Epoch 2/25\n",
      "55000/55000 [==============================] - 4s 69us/sample - loss: 0.7781 - accuracy: 0.7725 - val_loss: 0.8141 - val_accuracy: 0.7558\n",
      "Epoch 3/25\n",
      "55000/55000 [==============================] - 4s 68us/sample - loss: 0.8917 - accuracy: 0.7417 - val_loss: 0.8621 - val_accuracy: 0.7546\n",
      "Epoch 4/25\n",
      "55000/55000 [==============================] - 4s 68us/sample - loss: 0.9439 - accuracy: 0.7196 - val_loss: 1.0402 - val_accuracy: 0.7100\n",
      "Epoch 5/25\n",
      "55000/55000 [==============================] - 4s 68us/sample - loss: 0.8538 - accuracy: 0.7262 - val_loss: 0.9904 - val_accuracy: 0.8032\n",
      "Epoch 6/25\n",
      "55000/55000 [==============================] - 4s 78us/sample - loss: 0.5831 - accuracy: 0.8199 - val_loss: 0.7717 - val_accuracy: 0.8092\n",
      "Epoch 7/25\n",
      "55000/55000 [==============================] - 4s 75us/sample - loss: 0.5094 - accuracy: 0.8429 - val_loss: 0.6582 - val_accuracy: 0.8268\n",
      "Epoch 8/25\n",
      "55000/55000 [==============================] - 4s 77us/sample - loss: 0.5112 - accuracy: 0.8425 - val_loss: 0.6064 - val_accuracy: 0.8370\n",
      "Epoch 9/25\n",
      "55000/55000 [==============================] - 4s 77us/sample - loss: 0.4922 - accuracy: 0.8510 - val_loss: 0.5471 - val_accuracy: 0.8452\n",
      "Epoch 10/25\n",
      "55000/55000 [==============================] - 4s 74us/sample - loss: 0.4683 - accuracy: 0.8573 - val_loss: 0.6127 - val_accuracy: 0.8296\n",
      "Epoch 11/25\n",
      "55000/55000 [==============================] - 4s 81us/sample - loss: 0.4837 - accuracy: 0.8537 - val_loss: 0.6558 - val_accuracy: 0.8432\n",
      "Epoch 12/25\n",
      "55000/55000 [==============================] - 4s 74us/sample - loss: 0.4603 - accuracy: 0.8594 - val_loss: 0.6506 - val_accuracy: 0.8418\n",
      "Epoch 13/25\n",
      "55000/55000 [==============================] - 5s 82us/sample - loss: 0.4827 - accuracy: 0.8563 - val_loss: 0.6616 - val_accuracy: 0.8332\n",
      "Epoch 14/25\n",
      "55000/55000 [==============================] - 5s 83us/sample - loss: 0.4545 - accuracy: 0.8625 - val_loss: 0.6205 - val_accuracy: 0.8558\n",
      "Epoch 15/25\n",
      "55000/55000 [==============================] - 5s 83us/sample - loss: 0.4534 - accuracy: 0.8675 - val_loss: 0.7510 - val_accuracy: 0.8388\n",
      "Epoch 16/25\n",
      "55000/55000 [==============================] - 4s 78us/sample - loss: 0.3243 - accuracy: 0.8959 - val_loss: 0.5811 - val_accuracy: 0.8676\n",
      "Epoch 17/25\n",
      "55000/55000 [==============================] - 5s 87us/sample - loss: 0.2916 - accuracy: 0.9043 - val_loss: 0.5924 - val_accuracy: 0.8742\n",
      "Epoch 18/25\n",
      "55000/55000 [==============================] - 4s 78us/sample - loss: 0.2788 - accuracy: 0.9081 - val_loss: 0.5742 - val_accuracy: 0.8730\n",
      "Epoch 19/25\n",
      "55000/55000 [==============================] - 5s 83us/sample - loss: 0.2700 - accuracy: 0.9114 - val_loss: 0.5844 - val_accuracy: 0.8706\n",
      "Epoch 20/25\n",
      "55000/55000 [==============================] - 4s 81us/sample - loss: 0.2639 - accuracy: 0.9129 - val_loss: 0.5960 - val_accuracy: 0.8738\n",
      "Epoch 21/25\n",
      "55000/55000 [==============================] - 4s 81us/sample - loss: 0.2481 - accuracy: 0.9156 - val_loss: 0.5800 - val_accuracy: 0.8714\n",
      "Epoch 22/25\n",
      "55000/55000 [==============================] - 4s 81us/sample - loss: 0.2302 - accuracy: 0.9163 - val_loss: 0.6163 - val_accuracy: 0.8710\n",
      "Epoch 23/25\n",
      "55000/55000 [==============================] - 4s 80us/sample - loss: 0.2166 - accuracy: 0.9193 - val_loss: 0.5836 - val_accuracy: 0.8750\n",
      "Epoch 24/25\n",
      "55000/55000 [==============================] - 4s 78us/sample - loss: 0.2113 - accuracy: 0.9206 - val_loss: 0.5743 - val_accuracy: 0.8746\n",
      "Epoch 25/25\n",
      "55000/55000 [==============================] - 4s 77us/sample - loss: 0.2027 - accuracy: 0.9254 - val_loss: 0.6463 - val_accuracy: 0.8824\n"
     ]
    }
   ],
   "source": [
    "lr_scheduler = keras.callbacks.LearningRateScheduler(piecewise_constant_fn)\n",
    "\n",
    "model = keras.models.Sequential([\n",
    "    keras.layers.Flatten(input_shape=[28, 28]),\n",
    "    keras.layers.Dense(300, activation=\"selu\", kernel_initializer=\"lecun_normal\"),\n",
    "    keras.layers.Dense(100, activation=\"selu\", kernel_initializer=\"lecun_normal\"),\n",
    "    keras.layers.Dense(10, activation=\"softmax\")\n",
    "])\n",
    "model.compile(loss=\"sparse_categorical_crossentropy\", optimizer=\"nadam\", metrics=[\"accuracy\"])\n",
    "n_epochs = 25\n",
    "history = model.fit(X_train_scaled, y_train, epochs=n_epochs,\n",
    "                    validation_data=(X_valid_scaled, y_valid),\n",
    "                    callbacks=[lr_scheduler])"
   ]
  },
  {
   "cell_type": "code",
   "execution_count": 66,
   "metadata": {},
   "outputs": [
    {
     "data": {
      "image/png": "[encoded data removed]",
      "text/plain": [
       "<Figure size 432x288 with 1 Axes>"
      ]
     },
     "metadata": {
      "needs_background": "light"
     },
     "output_type": "display_data"
    }
   ],
   "source": [
    "plt.plot(history.epoch, [piecewise_constant_fn(epoch) for epoch in history.epoch], \"o-\")\n",
    "plt.axis([0, n_epochs - 1, 0, 0.011])\n",
    "plt.xlabel(\"Epoch\")\n",
    "plt.ylabel(\"Learning Rate\")\n",
    "plt.title(\"Piecewise Constant Scheduling\", fontsize=14)\n",
    "plt.grid(True)\n",
    "plt.show()"
   ]
  },
  {
   "cell_type": "markdown",
   "metadata": {},
   "source": [
    "## Performance Scheduling"
   ]
  },
  {
   "cell_type": "code",
   "execution_count": 67,
   "metadata": {},
   "outputs": [],
   "source": [
    "tf.random.set_seed(42)\n",
    "np.random.seed(42)"
   ]
  },
  {
   "cell_type": "code",
   "execution_count": 68,
   "metadata": {},
   "outputs": [
    {
     "name": "stdout",
     "output_type": "stream",
     "text": [
      "Train on 55000 samples, validate on 5000 samples\n",
      "Epoch 1/25\n",
      "55000/55000 [==============================] - 3s 59us/sample - loss: 0.5902 - accuracy: 0.8081 - val_loss: 0.4767 - val_accuracy: 0.8476\n",
      "Epoch 2/25\n",
      "55000/55000 [==============================] - 3s 58us/sample - loss: 0.5100 - accuracy: 0.8367 - val_loss: 0.4400 - val_accuracy: 0.8566\n",
      "Epoch 3/25\n",
      "55000/55000 [==============================] - 3s 58us/sample - loss: 0.4976 - accuracy: 0.8449 - val_loss: 0.4885 - val_accuracy: 0.8360\n",
      "Epoch 4/25\n",
      "55000/55000 [==============================] - 3s 57us/sample - loss: 0.5116 - accuracy: 0.8478 - val_loss: 0.6338 - val_accuracy: 0.8480\n",
      "Epoch 5/25\n",
      "55000/55000 [==============================] - 3s 58us/sample - loss: 0.5328 - accuracy: 0.8478 - val_loss: 0.7667 - val_accuracy: 0.8330\n",
      "Epoch 6/25\n",
      "55000/55000 [==============================] - 3s 58us/sample - loss: 0.5428 - accuracy: 0.8501 - val_loss: 0.6829 - val_accuracy: 0.8536\n",
      "Epoch 7/25\n",
      "55000/55000 [==============================] - 3s 56us/sample - loss: 0.5374 - accuracy: 0.8519 - val_loss: 0.6139 - val_accuracy: 0.8482\n",
      "Epoch 8/25\n",
      "55000/55000 [==============================] - 3s 58us/sample - loss: 0.3028 - accuracy: 0.8938 - val_loss: 0.3939 - val_accuracy: 0.8800\n",
      "Epoch 9/25\n",
      "55000/55000 [==============================] - 3s 56us/sample - loss: 0.2510 - accuracy: 0.9079 - val_loss: 0.3783 - val_accuracy: 0.8796\n",
      "Epoch 10/25\n",
      "55000/55000 [==============================] - 3s 60us/sample - loss: 0.2288 - accuracy: 0.9159 - val_loss: 0.3736 - val_accuracy: 0.8908\n",
      "Epoch 11/25\n",
      "55000/55000 [==============================] - 3s 56us/sample - loss: 0.2191 - accuracy: 0.9194 - val_loss: 0.4143 - val_accuracy: 0.8848\n",
      "Epoch 12/25\n",
      "55000/55000 [==============================] - 4s 69us/sample - loss: 0.2070 - accuracy: 0.9231 - val_loss: 0.4000 - val_accuracy: 0.8904\n",
      "Epoch 13/25\n",
      "55000/55000 [==============================] - 3s 63us/sample - loss: 0.1954 - accuracy: 0.9276 - val_loss: 0.4288 - val_accuracy: 0.8812\n",
      "Epoch 14/25\n",
      "55000/55000 [==============================] - 3s 58us/sample - loss: 0.1910 - accuracy: 0.9304 - val_loss: 0.4154 - val_accuracy: 0.8948\n",
      "Epoch 15/25\n",
      "55000/55000 [==============================] - 3s 58us/sample - loss: 0.1785 - accuracy: 0.9331 - val_loss: 0.4434 - val_accuracy: 0.8802\n",
      "Epoch 16/25\n",
      "55000/55000 [==============================] - 3s 57us/sample - loss: 0.1223 - accuracy: 0.9513 - val_loss: 0.4105 - val_accuracy: 0.8970\n",
      "Epoch 17/25\n",
      "55000/55000 [==============================] - 3s 58us/sample - loss: 0.1052 - accuracy: 0.9589 - val_loss: 0.4251 - val_accuracy: 0.8926\n",
      "Epoch 18/25\n",
      "55000/55000 [==============================] - 3s 56us/sample - loss: 0.0980 - accuracy: 0.9617 - val_loss: 0.4530 - val_accuracy: 0.8944\n",
      "Epoch 19/25\n",
      "55000/55000 [==============================] - 3s 57us/sample - loss: 0.0919 - accuracy: 0.9638 - val_loss: 0.4899 - val_accuracy: 0.8904\n",
      "Epoch 20/25\n",
      "55000/55000 [==============================] - 3s 60us/sample - loss: 0.0839 - accuracy: 0.9669 - val_loss: 0.4579 - val_accuracy: 0.8938\n",
      "Epoch 21/25\n",
      "55000/55000 [==============================] - 3s 57us/sample - loss: 0.0647 - accuracy: 0.9756 - val_loss: 0.4828 - val_accuracy: 0.8950\n",
      "Epoch 22/25\n",
      "55000/55000 [==============================] - 4s 68us/sample - loss: 0.0594 - accuracy: 0.9786 - val_loss: 0.4942 - val_accuracy: 0.8940\n",
      "Epoch 23/25\n",
      "55000/55000 [==============================] - 3s 62us/sample - loss: 0.0557 - accuracy: 0.9799 - val_loss: 0.5075 - val_accuracy: 0.8974\n",
      "Epoch 24/25\n",
      "55000/55000 [==============================] - 3s 62us/sample - loss: 0.0526 - accuracy: 0.9815 - val_loss: 0.5214 - val_accuracy: 0.8944\n",
      "Epoch 25/25\n",
      "55000/55000 [==============================] - 3s 58us/sample - loss: 0.0499 - accuracy: 0.9822 - val_loss: 0.5349 - val_accuracy: 0.8970\n"
     ]
    }
   ],
   "source": [
    "lr_scheduler = keras.callbacks.ReduceLROnPlateau(factor=0.5, patience=5)\n",
    "\n",
    "model = keras.models.Sequential([\n",
    "    keras.layers.Flatten(input_shape=[28, 28]),\n",
    "    keras.layers.Dense(300, activation=\"selu\", kernel_initializer=\"lecun_normal\"),\n",
    "    keras.layers.Dense(100, activation=\"selu\", kernel_initializer=\"lecun_normal\"),\n",
    "    keras.layers.Dense(10, activation=\"softmax\")\n",
    "])\n",
    "optimizer = keras.optimizers.SGD(lr=0.02, momentum=0.9)\n",
    "model.compile(loss=\"sparse_categorical_crossentropy\", optimizer=optimizer, metrics=[\"accuracy\"])\n",
    "n_epochs = 25\n",
    "history = model.fit(X_train_scaled, y_train, epochs=n_epochs,\n",
    "                    validation_data=(X_valid_scaled, y_valid),\n",
    "                    callbacks=[lr_scheduler])"
   ]
  },
  {
   "cell_type": "code",
   "execution_count": 69,
   "metadata": {},
   "outputs": [
    {
     "data": {
      "image/png": "[encoded data removed]",
      "text/plain": [
       "<Figure size 432x288 with 2 Axes>"
      ]
     },
     "metadata": {
      "needs_background": "light"
     },
     "output_type": "display_data"
    }
   ],
   "source": [
    "plt.plot(history.epoch, history.history[\"lr\"], \"bo-\")\n",
    "plt.xlabel(\"Epoch\")\n",
    "plt.ylabel(\"Learning Rate\", color='b')\n",
    "plt.tick_params('y', colors='b')\n",
    "plt.gca().set_xlim(0, n_epochs - 1)\n",
    "plt.grid(True)\n",
    "\n",
    "ax2 = plt.gca().twinx()\n",
    "ax2.plot(history.epoch, history.history[\"val_loss\"], \"r^-\")\n",
    "ax2.set_ylabel('Validation Loss', color='r')\n",
    "ax2.tick_params('y', colors='r')\n",
    "\n",
    "plt.title(\"Reduce LR on Plateau\", fontsize=14)\n",
    "plt.show()"
   ]
  },
  {
   "cell_type": "markdown",
   "metadata": {},
   "source": [
    "## tf.keras schedulers"
   ]
  },
  {
   "cell_type": "code",
   "execution_count": 70,
   "metadata": {},
   "outputs": [
    {
     "name": "stdout",
     "output_type": "stream",
     "text": [
      "Train on 55000 samples, validate on 5000 samples\n",
      "Epoch 1/25\n",
      "55000/55000 [==============================] - 4s 75us/sample - loss: 0.4873 - accuracy: 0.8296 - val_loss: 0.4139 - val_accuracy: 0.8554\n",
      "Epoch 2/25\n",
      "55000/55000 [==============================] - 3s 58us/sample - loss: 0.3829 - accuracy: 0.8645 - val_loss: 0.3771 - val_accuracy: 0.8698\n",
      "Epoch 3/25\n",
      "55000/55000 [==============================] - 3s 58us/sample - loss: 0.3495 - accuracy: 0.8762 - val_loss: 0.3696 - val_accuracy: 0.8724\n",
      "Epoch 4/25\n",
      "55000/55000 [==============================] - 3s 58us/sample - loss: 0.3275 - accuracy: 0.8829 - val_loss: 0.3539 - val_accuracy: 0.8752\n",
      "Epoch 5/25\n",
      "55000/55000 [==============================] - 3s 58us/sample - loss: 0.3103 - accuracy: 0.8897 - val_loss: 0.3457 - val_accuracy: 0.8786\n",
      "Epoch 6/25\n",
      "55000/55000 [==============================] - 3s 59us/sample - loss: 0.2972 - accuracy: 0.8944 - val_loss: 0.3409 - val_accuracy: 0.8804\n",
      "Epoch 7/25\n",
      "55000/55000 [==============================] - 3s 58us/sample - loss: 0.2859 - accuracy: 0.8986 - val_loss: 0.3354 - val_accuracy: 0.8832\n",
      "Epoch 8/25\n",
      "55000/55000 [==============================] - 3s 58us/sample - loss: 0.2768 - accuracy: 0.9020 - val_loss: 0.3320 - val_accuracy: 0.8834\n",
      "Epoch 9/25\n",
      "55000/55000 [==============================] - 3s 58us/sample - loss: 0.2686 - accuracy: 0.9045 - val_loss: 0.3282 - val_accuracy: 0.8860\n",
      "Epoch 10/25\n",
      "55000/55000 [==============================] - 3s 58us/sample - loss: 0.2613 - accuracy: 0.9074 - val_loss: 0.3305 - val_accuracy: 0.8836\n",
      "Epoch 11/25\n",
      "55000/55000 [==============================] - 3s 54us/sample - loss: 0.2556 - accuracy: 0.9096 - val_loss: 0.3262 - val_accuracy: 0.8868\n",
      "Epoch 12/25\n",
      "55000/55000 [==============================] - 3s 59us/sample - loss: 0.2503 - accuracy: 0.9115 - val_loss: 0.3246 - val_accuracy: 0.8868\n",
      "Epoch 13/25\n",
      "55000/55000 [==============================] - 3s 56us/sample - loss: 0.2457 - accuracy: 0.9131 - val_loss: 0.3242 - val_accuracy: 0.8860\n",
      "Epoch 14/25\n",
      "55000/55000 [==============================] - 3s 58us/sample - loss: 0.2416 - accuracy: 0.9144 - val_loss: 0.3235 - val_accuracy: 0.8860\n",
      "Epoch 15/25\n",
      "55000/55000 [==============================] - 3s 57us/sample - loss: 0.2380 - accuracy: 0.9167 - val_loss: 0.3197 - val_accuracy: 0.8876\n",
      "Epoch 16/25\n",
      "55000/55000 [==============================] - 3s 57us/sample - loss: 0.2347 - accuracy: 0.9171 - val_loss: 0.3208 - val_accuracy: 0.8870\n",
      "Epoch 17/25\n",
      "55000/55000 [==============================] - 3s 56us/sample - loss: 0.2321 - accuracy: 0.9188 - val_loss: 0.3183 - val_accuracy: 0.8888\n",
      "Epoch 18/25\n",
      "55000/55000 [==============================] - 3s 54us/sample - loss: 0.2292 - accuracy: 0.9193 - val_loss: 0.3208 - val_accuracy: 0.8884\n",
      "Epoch 19/25\n",
      "55000/55000 [==============================] - 3s 60us/sample - loss: 0.2272 - accuracy: 0.9203 - val_loss: 0.3196 - val_accuracy: 0.8888\n",
      "Epoch 20/25\n",
      "55000/55000 [==============================] - 3s 63us/sample - loss: 0.2252 - accuracy: 0.9214 - val_loss: 0.3180 - val_accuracy: 0.8886\n",
      "Epoch 21/25\n",
      "55000/55000 [==============================] - 3s 62us/sample - loss: 0.2235 - accuracy: 0.9215 - val_loss: 0.3173 - val_accuracy: 0.8898\n",
      "Epoch 22/25\n",
      "55000/55000 [==============================] - 3s 64us/sample - loss: 0.2218 - accuracy: 0.9229 - val_loss: 0.3173 - val_accuracy: 0.8900\n",
      "Epoch 23/25\n",
      "55000/55000 [==============================] - 3s 59us/sample - loss: 0.2204 - accuracy: 0.9226 - val_loss: 0.3170 - val_accuracy: 0.8892\n",
      "Epoch 24/25\n",
      "55000/55000 [==============================] - 3s 62us/sample - loss: 0.2191 - accuracy: 0.9240 - val_loss: 0.3176 - val_accuracy: 0.8902\n",
      "Epoch 25/25\n",
      "55000/55000 [==============================] - 3s 58us/sample - loss: 0.2182 - accuracy: 0.9242 - val_loss: 0.3168 - val_accuracy: 0.8902\n"
     ]
    }
   ],
   "source": [
    "model = keras.models.Sequential([\n",
    "    keras.layers.Flatten(input_shape=[28, 28]),\n",
    "    keras.layers.Dense(300, activation=\"selu\", kernel_initializer=\"lecun_normal\"),\n",
    "    keras.layers.Dense(100, activation=\"selu\", kernel_initializer=\"lecun_normal\"),\n",
    "    keras.layers.Dense(10, activation=\"softmax\")\n",
    "])\n",
    "s = 20 * len(X_train) // 32 # number of steps in 20 epochs (batch size = 32)\n",
    "learning_rate = keras.optimizers.schedules.ExponentialDecay(0.01, s, 0.1)\n",
    "optimizer = keras.optimizers.SGD(learning_rate)\n",
    "model.compile(loss=\"sparse_categorical_crossentropy\", optimizer=optimizer, metrics=[\"accuracy\"])\n",
    "n_epochs = 25\n",
    "history = model.fit(X_train_scaled, y_train, epochs=n_epochs,\n",
    "                    validation_data=(X_valid_scaled, y_valid))"
   ]
  },
  {
   "cell_type": "code",
   "execution_count": null,
   "metadata": {},
   "outputs": [],
   "source": [
    "learning_rate = keras.optimizers.schedules.PiecewiseConstantDecay(\n",
    "    boundaries=[5. * n_steps_per_epoch, 15. * n_steps_per_epoch],\n",
    "    values=[0.01, 0.005, 0.001])"
   ]
  },
  {
   "cell_type": "markdown",
   "metadata": {},
   "source": [
    "## 1Cycle scheduling"
   ]
  },
  {
   "cell_type": "code",
   "execution_count": 79,
   "metadata": {},
   "outputs": [],
   "source": [
    "# to see the acceptable max of lr.\n",
    "\n",
    "K = keras.backend\n",
    "\n",
    "class ExponentialLearningRate(keras.callbacks.Callback):\n",
    "    def __init__(self, factor):\n",
    "        self.factor = factor\n",
    "        self.rates = []\n",
    "        self.losses = []\n",
    "    def on_batch_end(self, batch, logs):\n",
    "        self.rates.append(K.get_value(self.model.optimizer.lr))\n",
    "        self.losses.append(logs[\"loss\"])\n",
    "        K.set_value(self.model.optimizer.lr, self.model.optimizer.lr * self.factor)\n",
    "\n",
    "def find_learning_rate(model, X, y, epochs=1, batch_size=32, min_rate=10**-5, max_rate=10):\n",
    "    init_weights = model.get_weights()\n",
    "    iterations = len(X) // batch_size * epochs\n",
    "    factor = np.exp(np.log(max_rate / min_rate) / iterations)\n",
    "    init_lr = K.get_value(model.optimizer.lr)\n",
    "    K.set_value(model.optimizer.lr, min_rate)\n",
    "    exp_lr = ExponentialLearningRate(factor)\n",
    "    history = model.fit(X, y, epochs=epochs, batch_size=batch_size,\n",
    "                        callbacks=[exp_lr])\n",
    "    K.set_value(model.optimizer.lr, init_lr)\n",
    "    model.set_weights(init_weights)\n",
    "    return exp_lr.rates, exp_lr.losses\n",
    "\n",
    "def plot_lr_vs_loss(rates, losses):\n",
    "    plt.plot(rates, losses)\n",
    "    plt.gca().set_xscale('log')\n",
    "    plt.hlines(min(losses), min(rates), max(rates))\n",
    "    plt.axis([min(rates), max(rates), min(losses), (losses[0] + min(losses)) / 2])\n",
    "    plt.xlabel(\"Learning rate\")\n",
    "    plt.ylabel(\"Loss\")"
   ]
  },
  {
   "cell_type": "code",
   "execution_count": 80,
   "metadata": {},
   "outputs": [],
   "source": [
    "tf.random.set_seed(42)\n",
    "np.random.seed(42)\n",
    "\n",
    "model = keras.models.Sequential([\n",
    "    keras.layers.Flatten(input_shape=[28, 28]),\n",
    "    keras.layers.Dense(300, activation=\"selu\", kernel_initializer=\"lecun_normal\"),\n",
    "    keras.layers.Dense(100, activation=\"selu\", kernel_initializer=\"lecun_normal\"),\n",
    "    keras.layers.Dense(10, activation=\"softmax\")\n",
    "])\n",
    "model.compile(loss=\"sparse_categorical_crossentropy\",\n",
    "              optimizer=keras.optimizers.SGD(lr=1e-3),\n",
    "              metrics=[\"accuracy\"])"
   ]
  },
  {
   "cell_type": "code",
   "execution_count": 81,
   "metadata": {},
   "outputs": [
    {
     "name": "stdout",
     "output_type": "stream",
     "text": [
      "Train on 55000 samples\n",
      "55000/55000 [==============================] - 2s 28us/sample - loss: nan - accuracy: 0.3881           \n"
     ]
    },
    {
     "data": {
      "image/png": "[encoded data removed]",
      "text/plain": [
       "<Figure size 432x288 with 1 Axes>"
      ]
     },
     "metadata": {
      "needs_background": "light"
     },
     "output_type": "display_data"
    }
   ],
   "source": [
    "batch_size = 128\n",
    "rates, losses = find_learning_rate(model, X_train_scaled, y_train, epochs=1, batch_size=batch_size)\n",
    "plot_lr_vs_loss(rates, losses)"
   ]
  },
  {
   "cell_type": "code",
   "execution_count": 82,
   "metadata": {},
   "outputs": [],
   "source": [
    "class OneCycleScheduler(keras.callbacks.Callback):\n",
    "    def __init__(self, iterations, max_rate, start_rate=None,\n",
    "                 last_iterations=None, last_rate=None):\n",
    "        self.iterations = iterations\n",
    "        self.max_rate = max_rate\n",
    "        self.start_rate = start_rate or max_rate / 10\n",
    "        self.last_iterations = last_iterations or iterations // 10 + 1\n",
    "        self.half_iteration = (iterations - self.last_iterations) // 2\n",
    "        self.last_rate = last_rate or self.start_rate / 1000\n",
    "        self.iteration = 0\n",
    "    def _interpolate(self, iter1, iter2, rate1, rate2):\n",
    "        return ((rate2 - rate1) * (self.iteration - iter1)\n",
    "                / (iter2 - iter1) + rate1)\n",
    "    def on_batch_begin(self, batch, logs):\n",
    "        if self.iteration < self.half_iteration:\n",
    "            rate = self._interpolate(0, self.half_iteration, self.start_rate, self.max_rate)\n",
    "        elif self.iteration < 2 * self.half_iteration:\n",
    "            rate = self._interpolate(self.half_iteration, 2 * self.half_iteration,\n",
    "                                     self.max_rate, self.start_rate)\n",
    "        else:\n",
    "            rate = self._interpolate(2 * self.half_iteration, self.iterations,\n",
    "                                     self.start_rate, self.last_rate)\n",
    "            rate = max(rate, self.last_rate)\n",
    "        self.iteration += 1\n",
    "        K.set_value(self.model.optimizer.lr, rate)"
   ]
  },
  {
   "cell_type": "code",
   "execution_count": 83,
   "metadata": {},
   "outputs": [
    {
     "name": "stdout",
     "output_type": "stream",
     "text": [
      "Train on 55000 samples, validate on 5000 samples\n",
      "Epoch 1/25\n",
      "55000/55000 [==============================] - 1s 26us/sample - loss: 0.6576 - accuracy: 0.7743 - val_loss: 0.4901 - val_accuracy: 0.8300\n",
      "Epoch 2/25\n",
      "55000/55000 [==============================] - 1s 25us/sample - loss: 0.4587 - accuracy: 0.8387 - val_loss: 0.4316 - val_accuracy: 0.8490\n",
      "Epoch 3/25\n",
      "55000/55000 [==============================] - 1s 24us/sample - loss: 0.4119 - accuracy: 0.8560 - val_loss: 0.4118 - val_accuracy: 0.8578\n",
      "Epoch 4/25\n",
      "55000/55000 [==============================] - 1s 24us/sample - loss: 0.3842 - accuracy: 0.8656 - val_loss: 0.3919 - val_accuracy: 0.8636\n",
      "Epoch 5/25\n",
      "55000/55000 [==============================] - 1s 23us/sample - loss: 0.3636 - accuracy: 0.8709 - val_loss: 0.3739 - val_accuracy: 0.8710\n",
      "Epoch 6/25\n",
      "55000/55000 [==============================] - 1s 23us/sample - loss: 0.3460 - accuracy: 0.8765 - val_loss: 0.3742 - val_accuracy: 0.8694\n",
      "Epoch 7/25\n",
      "55000/55000 [==============================] - 1s 23us/sample - loss: 0.3312 - accuracy: 0.8819 - val_loss: 0.3758 - val_accuracy: 0.8646\n",
      "Epoch 8/25\n",
      "55000/55000 [==============================] - 1s 23us/sample - loss: 0.3193 - accuracy: 0.8845 - val_loss: 0.3580 - val_accuracy: 0.8748\n",
      "Epoch 9/25\n",
      "55000/55000 [==============================] - 1s 23us/sample - loss: 0.3057 - accuracy: 0.8903 - val_loss: 0.3470 - val_accuracy: 0.8826\n",
      "Epoch 10/25\n",
      "55000/55000 [==============================] - 1s 23us/sample - loss: 0.2943 - accuracy: 0.8935 - val_loss: 0.4018 - val_accuracy: 0.8552\n",
      "Epoch 11/25\n",
      "55000/55000 [==============================] - 1s 23us/sample - loss: 0.2846 - accuracy: 0.8959 - val_loss: 0.3448 - val_accuracy: 0.8818\n",
      "Epoch 12/25\n",
      "55000/55000 [==============================] - 1s 23us/sample - loss: 0.2720 - accuracy: 0.9014 - val_loss: 0.3347 - val_accuracy: 0.8816\n",
      "Epoch 13/25\n",
      "55000/55000 [==============================] - 1s 24us/sample - loss: 0.2537 - accuracy: 0.9093 - val_loss: 0.3390 - val_accuracy: 0.8804\n",
      "Epoch 14/25\n",
      "55000/55000 [==============================] - 1s 23us/sample - loss: 0.2420 - accuracy: 0.9129 - val_loss: 0.3327 - val_accuracy: 0.8850\n",
      "Epoch 15/25\n",
      "55000/55000 [==============================] - 1s 24us/sample - loss: 0.2290 - accuracy: 0.9173 - val_loss: 0.3240 - val_accuracy: 0.8840\n",
      "Epoch 16/25\n",
      "55000/55000 [==============================] - 1s 23us/sample - loss: 0.2169 - accuracy: 0.9221 - val_loss: 0.3339 - val_accuracy: 0.8858\n",
      "Epoch 17/25\n",
      "55000/55000 [==============================] - 1s 23us/sample - loss: 0.2068 - accuracy: 0.9265 - val_loss: 0.3207 - val_accuracy: 0.8874\n",
      "Epoch 18/25\n",
      "55000/55000 [==============================] - 1s 23us/sample - loss: 0.1978 - accuracy: 0.9299 - val_loss: 0.3187 - val_accuracy: 0.8894\n",
      "Epoch 19/25\n",
      "55000/55000 [==============================] - 1s 23us/sample - loss: 0.1894 - accuracy: 0.9330 - val_loss: 0.3271 - val_accuracy: 0.8852\n",
      "Epoch 20/25\n",
      "55000/55000 [==============================] - 1s 26us/sample - loss: 0.1820 - accuracy: 0.9376 - val_loss: 0.3192 - val_accuracy: 0.8906\n",
      "Epoch 21/25\n",
      "55000/55000 [==============================] - 1s 23us/sample - loss: 0.1757 - accuracy: 0.9392 - val_loss: 0.3161 - val_accuracy: 0.8948\n",
      "Epoch 22/25\n",
      "55000/55000 [==============================] - 1s 26us/sample - loss: 0.1702 - accuracy: 0.9416 - val_loss: 0.3178 - val_accuracy: 0.8930\n",
      "Epoch 23/25\n",
      "55000/55000 [==============================] - 1s 26us/sample - loss: 0.1657 - accuracy: 0.9440 - val_loss: 0.3169 - val_accuracy: 0.8950\n",
      "Epoch 24/25\n",
      "55000/55000 [==============================] - 2s 30us/sample - loss: 0.1629 - accuracy: 0.9450 - val_loss: 0.3167 - val_accuracy: 0.8948\n",
      "Epoch 25/25\n",
      "55000/55000 [==============================] - 2s 28us/sample - loss: 0.1612 - accuracy: 0.9465 - val_loss: 0.3171 - val_accuracy: 0.8950\n"
     ]
    }
   ],
   "source": [
    "n_epochs = 25\n",
    "onecycle = OneCycleScheduler(len(X_train) // batch_size * n_epochs, max_rate=0.05)\n",
    "history = model.fit(X_train_scaled, y_train, epochs=n_epochs, batch_size=batch_size,\n",
    "                    validation_data=(X_valid_scaled, y_valid),\n",
    "                    callbacks=[onecycle])"
   ]
  },
  {
   "cell_type": "markdown",
   "metadata": {},
   "source": [
    "# Regularization"
   ]
  },
  {
   "cell_type": "markdown",
   "metadata": {},
   "source": [
    "### l1 and l2"
   ]
  },
  {
   "cell_type": "code",
   "execution_count": 87,
   "metadata": {},
   "outputs": [
    {
     "name": "stdout",
     "output_type": "stream",
     "text": [
      "Train on 55000 samples, validate on 5000 samples\n",
      "Epoch 1/2\n",
      "55000/55000 [==============================] - 5s 83us/sample - loss: 1.6006 - accuracy: 0.8129 - val_loss: 0.7374 - val_accuracy: 0.8236\n",
      "Epoch 2/2\n",
      "55000/55000 [==============================] - 4s 73us/sample - loss: 0.7179 - accuracy: 0.8265 - val_loss: 0.6905 - val_accuracy: 0.8356\n"
     ]
    }
   ],
   "source": [
    "# E.g.: use functools to make it more neat\n",
    "\n",
    "from functools import partial\n",
    "\n",
    "RegularizedDense = partial(keras.layers.Dense,\n",
    "                           activation=\"elu\",\n",
    "                           kernel_initializer=\"he_normal\",\n",
    "                           kernel_regularizer=keras.regularizers.l2(0.01))\n",
    "\n",
    "model = keras.models.Sequential([\n",
    "    keras.layers.Flatten(input_shape=[28, 28]),\n",
    "    RegularizedDense(300),\n",
    "    RegularizedDense(100),\n",
    "    RegularizedDense(10, activation=\"softmax\")\n",
    "])\n",
    "model.compile(loss=\"sparse_categorical_crossentropy\", optimizer=\"nadam\", metrics=[\"accuracy\"])\n",
    "n_epochs = 2\n",
    "history = model.fit(X_train_scaled, y_train, epochs=n_epochs,\n",
    "                    validation_data=(X_valid_scaled, y_valid))"
   ]
  },
  {
   "cell_type": "markdown",
   "metadata": {},
   "source": [
    "### Dropout"
   ]
  },
  {
   "cell_type": "code",
   "execution_count": 88,
   "metadata": {},
   "outputs": [
    {
     "name": "stdout",
     "output_type": "stream",
     "text": [
      "Train on 55000 samples, validate on 5000 samples\n",
      "Epoch 1/2\n",
      "55000/55000 [==============================] - 5s 98us/sample - loss: 0.5856 - accuracy: 0.7992 - val_loss: 0.3908 - val_accuracy: 0.8570\n",
      "Epoch 2/2\n",
      "55000/55000 [==============================] - 5s 89us/sample - loss: 0.4260 - accuracy: 0.8443 - val_loss: 0.3392 - val_accuracy: 0.8744\n"
     ]
    }
   ],
   "source": [
    "model = keras.models.Sequential([\n",
    "    keras.layers.Flatten(input_shape=[28, 28]),\n",
    "    keras.layers.Dropout(rate=0.2),\n",
    "    keras.layers.Dense(300, activation=\"elu\", kernel_initializer=\"he_normal\"),\n",
    "    keras.layers.Dropout(rate=0.2),\n",
    "    keras.layers.Dense(100, activation=\"elu\", kernel_initializer=\"he_normal\"),\n",
    "    keras.layers.Dropout(rate=0.2),\n",
    "    keras.layers.Dense(10, activation=\"softmax\")\n",
    "])\n",
    "model.compile(loss=\"sparse_categorical_crossentropy\", optimizer=\"nadam\", metrics=[\"accuracy\"])\n",
    "n_epochs = 2\n",
    "history = model.fit(X_train_scaled, y_train, epochs=n_epochs,\n",
    "                    validation_data=(X_valid_scaled, y_valid))"
   ]
  },
  {
   "cell_type": "markdown",
   "metadata": {},
   "source": [
    "### Alpha Dropout"
   ]
  },
  {
   "cell_type": "code",
   "execution_count": 89,
   "metadata": {},
   "outputs": [
    {
     "name": "stdout",
     "output_type": "stream",
     "text": [
      "Train on 55000 samples, validate on 5000 samples\n",
      "Epoch 1/20\n",
      "55000/55000 [==============================] - 5s 87us/sample - loss: 0.6655 - accuracy: 0.7581 - val_loss: 0.6729 - val_accuracy: 0.8266\n",
      "Epoch 2/20\n",
      "55000/55000 [==============================] - 5s 82us/sample - loss: 0.5528 - accuracy: 0.7969 - val_loss: 0.5881 - val_accuracy: 0.8392\n",
      "Epoch 3/20\n",
      "55000/55000 [==============================] - 5s 84us/sample - loss: 0.5256 - accuracy: 0.8061 - val_loss: 0.5299 - val_accuracy: 0.8434\n",
      "Epoch 4/20\n",
      "55000/55000 [==============================] - 4s 81us/sample - loss: 0.5058 - accuracy: 0.8139 - val_loss: 0.4903 - val_accuracy: 0.8572\n",
      "Epoch 5/20\n",
      "55000/55000 [==============================] - 4s 80us/sample - loss: 0.4936 - accuracy: 0.8165 - val_loss: 0.4877 - val_accuracy: 0.8620\n",
      "Epoch 6/20\n",
      "55000/55000 [==============================] - 4s 81us/sample - loss: 0.4774 - accuracy: 0.8221 - val_loss: 0.5181 - val_accuracy: 0.8586\n",
      "Epoch 7/20\n",
      "55000/55000 [==============================] - 5s 88us/sample - loss: 0.4711 - accuracy: 0.8262 - val_loss: 0.4523 - val_accuracy: 0.8674\n",
      "Epoch 8/20\n",
      "55000/55000 [==============================] - 5s 82us/sample - loss: 0.4640 - accuracy: 0.8277 - val_loss: 0.4919 - val_accuracy: 0.8516\n",
      "Epoch 9/20\n",
      "55000/55000 [==============================] - 5s 84us/sample - loss: 0.4551 - accuracy: 0.8314 - val_loss: 0.4348 - val_accuracy: 0.8658\n",
      "Epoch 10/20\n",
      "55000/55000 [==============================] - 5s 83us/sample - loss: 0.4506 - accuracy: 0.8329 - val_loss: 0.4409 - val_accuracy: 0.8620\n",
      "Epoch 11/20\n",
      "55000/55000 [==============================] - 5s 85us/sample - loss: 0.4495 - accuracy: 0.8336 - val_loss: 0.4372 - val_accuracy: 0.8716\n",
      "Epoch 12/20\n",
      "55000/55000 [==============================] - 5s 86us/sample - loss: 0.4464 - accuracy: 0.8353 - val_loss: 0.4395 - val_accuracy: 0.8716\n",
      "Epoch 13/20\n",
      "55000/55000 [==============================] - 5s 84us/sample - loss: 0.4382 - accuracy: 0.8390 - val_loss: 0.4448 - val_accuracy: 0.8706\n",
      "Epoch 14/20\n",
      "55000/55000 [==============================] - 5s 84us/sample - loss: 0.4370 - accuracy: 0.8391 - val_loss: 0.4650 - val_accuracy: 0.8740\n",
      "Epoch 15/20\n",
      "55000/55000 [==============================] - 5s 86us/sample - loss: 0.4301 - accuracy: 0.8379 - val_loss: 0.4284 - val_accuracy: 0.8740\n",
      "Epoch 16/20\n",
      "55000/55000 [==============================] - 4s 82us/sample - loss: 0.4285 - accuracy: 0.8403 - val_loss: 0.4871 - val_accuracy: 0.8576\n",
      "Epoch 17/20\n",
      "55000/55000 [==============================] - 5s 83us/sample - loss: 0.4287 - accuracy: 0.8418 - val_loss: 0.4871 - val_accuracy: 0.8694\n",
      "Epoch 18/20\n",
      "55000/55000 [==============================] - 4s 80us/sample - loss: 0.4238 - accuracy: 0.8419 - val_loss: 0.4512 - val_accuracy: 0.8710\n",
      "Epoch 19/20\n",
      "55000/55000 [==============================] - 5s 84us/sample - loss: 0.4239 - accuracy: 0.8410 - val_loss: 0.4148 - val_accuracy: 0.8742\n",
      "Epoch 20/20\n",
      "55000/55000 [==============================] - 5s 88us/sample - loss: 0.4189 - accuracy: 0.8453 - val_loss: 0.4190 - val_accuracy: 0.8796\n"
     ]
    }
   ],
   "source": [
    "model = keras.models.Sequential([\n",
    "    keras.layers.Flatten(input_shape=[28, 28]),\n",
    "    keras.layers.AlphaDropout(rate=0.2),\n",
    "    keras.layers.Dense(300, activation=\"selu\", kernel_initializer=\"lecun_normal\"),\n",
    "    keras.layers.AlphaDropout(rate=0.2),\n",
    "    keras.layers.Dense(100, activation=\"selu\", kernel_initializer=\"lecun_normal\"),\n",
    "    keras.layers.AlphaDropout(rate=0.2),\n",
    "    keras.layers.Dense(10, activation=\"softmax\")\n",
    "])\n",
    "optimizer = keras.optimizers.SGD(lr=0.01, momentum=0.9, nesterov=True)\n",
    "model.compile(loss=\"sparse_categorical_crossentropy\", optimizer=optimizer, metrics=[\"accuracy\"])\n",
    "n_epochs = 20\n",
    "history = model.fit(X_train_scaled, y_train, epochs=n_epochs,\n",
    "                    validation_data=(X_valid_scaled, y_valid))"
   ]
  },
  {
   "cell_type": "markdown",
   "metadata": {},
   "source": [
    "### MC Dropout"
   ]
  },
  {
   "cell_type": "code",
   "execution_count": 90,
   "metadata": {},
   "outputs": [],
   "source": [
    "tf.random.set_seed(42)\n",
    "np.random.seed(42)"
   ]
  },
  {
   "cell_type": "code",
   "execution_count": 91,
   "metadata": {},
   "outputs": [
    {
     "name": "stdout",
     "output_type": "stream",
     "text": [
      "WARNING:tensorflow:Layer flatten_17 is casting an input tensor from dtype float64 to the layer's dtype of float32, which is new behavior in TensorFlow 2.  The layer has dtype float32 because it's dtype defaults to floatx.\n",
      "\n",
      "If you intended to run this layer in float32, you can safely ignore this warning. If in doubt, this warning is likely only an issue if you are porting a TensorFlow 1.X model to TensorFlow 2.\n",
      "\n",
      "To change all layers to have dtype float64 by default, call `tf.keras.backend.set_floatx('float64')`. To change just this layer, pass dtype='float64' to the layer constructor. If you are the author of this layer, you can disable autocasting by passing autocast=False to the base Layer constructor.\n",
      "\n"
     ]
    }
   ],
   "source": [
    "y_probas = np.stack([model(X_test_scaled, training=True)\n",
    "                     for sample in range(100)])\n",
    "y_proba = y_probas.mean(axis=0)\n",
    "y_std = y_probas.std(axis=0)"
   ]
  },
  {
   "cell_type": "code",
   "execution_count": 92,
   "metadata": {},
   "outputs": [
    {
     "data": {
      "text/plain": [
       "array([[0., 0., 0., 0., 0., 0., 0., 0., 0., 1.]], dtype=float32)"
      ]
     },
     "execution_count": 92,
     "metadata": {},
     "output_type": "execute_result"
    }
   ],
   "source": [
    "np.round(model.predict(X_test_scaled[:1]), 2)"
   ]
  },
  {
   "cell_type": "code",
   "execution_count": 93,
   "metadata": {},
   "outputs": [
    {
     "data": {
      "text/plain": [
       "array([[[0.  , 0.  , 0.  , 0.  , 0.  , 0.04, 0.  , 0.46, 0.  , 0.5 ]],\n",
       "\n",
       "       [[0.  , 0.  , 0.  , 0.  , 0.  , 0.  , 0.  , 0.28, 0.  , 0.72]],\n",
       "\n",
       "       [[0.  , 0.  , 0.  , 0.  , 0.  , 0.01, 0.  , 0.01, 0.  , 0.98]],\n",
       "\n",
       "       [[0.  , 0.  , 0.  , 0.  , 0.  , 0.  , 0.  , 0.01, 0.  , 0.99]],\n",
       "\n",
       "       [[0.  , 0.  , 0.  , 0.  , 0.  , 0.01, 0.  , 0.18, 0.  , 0.81]],\n",
       "\n",
       "       [[0.  , 0.  , 0.  , 0.  , 0.  , 0.  , 0.  , 0.52, 0.  , 0.47]],\n",
       "\n",
       "       [[0.  , 0.  , 0.  , 0.  , 0.  , 0.07, 0.  , 0.03, 0.  , 0.9 ]],\n",
       "\n",
       "       [[0.  , 0.  , 0.  , 0.  , 0.  , 0.01, 0.  , 0.56, 0.  , 0.44]],\n",
       "\n",
       "       [[0.  , 0.  , 0.  , 0.  , 0.  , 0.14, 0.  , 0.07, 0.  , 0.78]],\n",
       "\n",
       "       [[0.  , 0.  , 0.  , 0.  , 0.  , 0.1 , 0.  , 0.01, 0.  , 0.88]],\n",
       "\n",
       "       [[0.  , 0.  , 0.  , 0.  , 0.  , 0.  , 0.  , 0.32, 0.  , 0.68]],\n",
       "\n",
       "       [[0.  , 0.  , 0.  , 0.  , 0.  , 0.01, 0.  , 0.01, 0.  , 0.98]],\n",
       "\n",
       "       [[0.  , 0.  , 0.  , 0.  , 0.  , 0.02, 0.  , 0.06, 0.  , 0.92]],\n",
       "\n",
       "       [[0.  , 0.  , 0.  , 0.  , 0.  , 0.04, 0.  , 0.02, 0.  , 0.95]],\n",
       "\n",
       "       [[0.  , 0.  , 0.  , 0.  , 0.  , 0.17, 0.  , 0.13, 0.  , 0.7 ]],\n",
       "\n",
       "       [[0.  , 0.  , 0.  , 0.  , 0.  , 0.3 , 0.  , 0.02, 0.  , 0.68]],\n",
       "\n",
       "       [[0.  , 0.  , 0.  , 0.  , 0.  , 0.04, 0.  , 0.01, 0.  , 0.96]],\n",
       "\n",
       "       [[0.  , 0.  , 0.  , 0.  , 0.  , 0.01, 0.  , 0.05, 0.  , 0.94]],\n",
       "\n",
       "       [[0.  , 0.  , 0.  , 0.  , 0.  , 0.01, 0.  , 0.4 , 0.  , 0.59]],\n",
       "\n",
       "       [[0.  , 0.  , 0.  , 0.  , 0.  , 0.03, 0.  , 0.04, 0.  , 0.93]],\n",
       "\n",
       "       [[0.  , 0.  , 0.  , 0.  , 0.  , 0.02, 0.  , 0.04, 0.  , 0.94]],\n",
       "\n",
       "       [[0.  , 0.  , 0.  , 0.  , 0.  , 0.02, 0.  , 0.08, 0.  , 0.9 ]],\n",
       "\n",
       "       [[0.  , 0.  , 0.  , 0.  , 0.  , 0.  , 0.  , 0.09, 0.  , 0.91]],\n",
       "\n",
       "       [[0.  , 0.  , 0.  , 0.  , 0.  , 0.  , 0.  , 0.07, 0.  , 0.93]],\n",
       "\n",
       "       [[0.  , 0.  , 0.  , 0.  , 0.  , 0.07, 0.  , 0.03, 0.  , 0.9 ]],\n",
       "\n",
       "       [[0.  , 0.  , 0.  , 0.  , 0.  , 0.01, 0.  , 0.39, 0.  , 0.6 ]],\n",
       "\n",
       "       [[0.  , 0.  , 0.  , 0.  , 0.  , 0.08, 0.  , 0.02, 0.  , 0.91]],\n",
       "\n",
       "       [[0.  , 0.  , 0.  , 0.  , 0.  , 0.02, 0.  , 0.07, 0.  , 0.91]],\n",
       "\n",
       "       [[0.  , 0.  , 0.  , 0.  , 0.  , 0.04, 0.  , 0.01, 0.  , 0.95]],\n",
       "\n",
       "       [[0.  , 0.  , 0.  , 0.  , 0.  , 0.1 , 0.  , 0.4 , 0.  , 0.5 ]],\n",
       "\n",
       "       [[0.  , 0.  , 0.  , 0.  , 0.  , 0.07, 0.  , 0.01, 0.  , 0.92]],\n",
       "\n",
       "       [[0.  , 0.  , 0.  , 0.  , 0.  , 0.13, 0.  , 0.01, 0.  , 0.86]],\n",
       "\n",
       "       [[0.  , 0.  , 0.  , 0.  , 0.  , 0.04, 0.  , 0.  , 0.  , 0.95]],\n",
       "\n",
       "       [[0.  , 0.  , 0.  , 0.  , 0.  , 0.26, 0.  , 0.08, 0.  , 0.66]],\n",
       "\n",
       "       [[0.  , 0.  , 0.  , 0.  , 0.  , 0.16, 0.  , 0.29, 0.  , 0.55]],\n",
       "\n",
       "       [[0.  , 0.  , 0.  , 0.  , 0.  , 0.24, 0.  , 0.17, 0.  , 0.59]],\n",
       "\n",
       "       [[0.  , 0.  , 0.  , 0.  , 0.  , 0.  , 0.  , 0.  , 0.  , 0.99]],\n",
       "\n",
       "       [[0.  , 0.  , 0.  , 0.  , 0.  , 0.01, 0.  , 0.27, 0.  , 0.72]],\n",
       "\n",
       "       [[0.  , 0.  , 0.  , 0.  , 0.  , 0.23, 0.  , 0.07, 0.  , 0.7 ]],\n",
       "\n",
       "       [[0.  , 0.  , 0.  , 0.  , 0.  , 0.08, 0.  , 0.  , 0.  , 0.92]],\n",
       "\n",
       "       [[0.  , 0.  , 0.  , 0.  , 0.  , 0.01, 0.  , 0.01, 0.  , 0.98]],\n",
       "\n",
       "       [[0.  , 0.  , 0.  , 0.  , 0.  , 0.  , 0.  , 0.01, 0.  , 0.99]],\n",
       "\n",
       "       [[0.  , 0.  , 0.  , 0.  , 0.  , 0.06, 0.  , 0.01, 0.  , 0.93]],\n",
       "\n",
       "       [[0.  , 0.  , 0.  , 0.  , 0.  , 0.  , 0.  , 0.  , 0.  , 0.99]],\n",
       "\n",
       "       [[0.  , 0.  , 0.  , 0.  , 0.  , 0.02, 0.  , 0.04, 0.  , 0.94]],\n",
       "\n",
       "       [[0.  , 0.  , 0.  , 0.  , 0.  , 0.  , 0.  , 0.05, 0.  , 0.95]],\n",
       "\n",
       "       [[0.  , 0.  , 0.  , 0.  , 0.  , 0.11, 0.  , 0.37, 0.  , 0.53]],\n",
       "\n",
       "       [[0.  , 0.  , 0.  , 0.  , 0.  , 0.  , 0.  , 0.04, 0.  , 0.95]],\n",
       "\n",
       "       [[0.  , 0.  , 0.  , 0.  , 0.  , 0.  , 0.  , 0.01, 0.  , 0.99]],\n",
       "\n",
       "       [[0.  , 0.  , 0.  , 0.  , 0.  , 0.  , 0.  , 0.19, 0.  , 0.81]],\n",
       "\n",
       "       [[0.  , 0.  , 0.  , 0.  , 0.  , 0.22, 0.  , 0.08, 0.  , 0.7 ]],\n",
       "\n",
       "       [[0.  , 0.  , 0.  , 0.  , 0.  , 0.03, 0.  , 0.58, 0.  , 0.39]],\n",
       "\n",
       "       [[0.  , 0.  , 0.  , 0.  , 0.  , 0.  , 0.  , 0.  , 0.  , 1.  ]],\n",
       "\n",
       "       [[0.  , 0.  , 0.  , 0.  , 0.  , 0.74, 0.  , 0.01, 0.  , 0.25]],\n",
       "\n",
       "       [[0.  , 0.  , 0.  , 0.  , 0.  , 0.17, 0.  , 0.01, 0.  , 0.83]],\n",
       "\n",
       "       [[0.  , 0.  , 0.  , 0.  , 0.  , 0.  , 0.  , 0.09, 0.  , 0.91]],\n",
       "\n",
       "       [[0.  , 0.  , 0.  , 0.  , 0.  , 0.01, 0.  , 0.02, 0.  , 0.97]],\n",
       "\n",
       "       [[0.  , 0.  , 0.  , 0.  , 0.  , 0.05, 0.  , 0.21, 0.  , 0.73]],\n",
       "\n",
       "       [[0.  , 0.  , 0.  , 0.  , 0.  , 0.05, 0.  , 0.16, 0.  , 0.79]],\n",
       "\n",
       "       [[0.  , 0.  , 0.  , 0.  , 0.  , 0.12, 0.  , 0.1 , 0.  , 0.79]],\n",
       "\n",
       "       [[0.  , 0.  , 0.  , 0.  , 0.  , 0.06, 0.  , 0.03, 0.  , 0.91]],\n",
       "\n",
       "       [[0.  , 0.  , 0.  , 0.  , 0.  , 0.  , 0.  , 0.07, 0.  , 0.93]],\n",
       "\n",
       "       [[0.  , 0.  , 0.  , 0.  , 0.  , 0.06, 0.  , 0.21, 0.  , 0.73]],\n",
       "\n",
       "       [[0.  , 0.  , 0.  , 0.  , 0.  , 0.  , 0.  , 0.47, 0.  , 0.53]],\n",
       "\n",
       "       [[0.  , 0.  , 0.  , 0.  , 0.  , 0.18, 0.  , 0.02, 0.  , 0.81]],\n",
       "\n",
       "       [[0.  , 0.  , 0.  , 0.  , 0.  , 0.  , 0.  , 0.35, 0.  , 0.65]],\n",
       "\n",
       "       [[0.  , 0.  , 0.  , 0.  , 0.  , 0.12, 0.01, 0.12, 0.  , 0.75]],\n",
       "\n",
       "       [[0.  , 0.  , 0.  , 0.  , 0.  , 0.01, 0.  , 0.02, 0.  , 0.97]],\n",
       "\n",
       "       [[0.  , 0.  , 0.  , 0.  , 0.  , 0.  , 0.  , 0.01, 0.  , 0.99]],\n",
       "\n",
       "       [[0.  , 0.  , 0.  , 0.  , 0.  , 0.01, 0.  , 0.01, 0.  , 0.98]],\n",
       "\n",
       "       [[0.  , 0.  , 0.  , 0.  , 0.  , 0.  , 0.  , 0.03, 0.  , 0.97]],\n",
       "\n",
       "       [[0.  , 0.  , 0.  , 0.  , 0.  , 0.01, 0.  , 0.05, 0.  , 0.94]],\n",
       "\n",
       "       [[0.  , 0.  , 0.  , 0.  , 0.  , 0.42, 0.  , 0.08, 0.  , 0.51]],\n",
       "\n",
       "       [[0.  , 0.  , 0.  , 0.  , 0.  , 0.  , 0.  , 0.04, 0.  , 0.96]],\n",
       "\n",
       "       [[0.  , 0.  , 0.  , 0.  , 0.  , 0.02, 0.  , 0.  , 0.  , 0.98]],\n",
       "\n",
       "       [[0.  , 0.  , 0.  , 0.  , 0.  , 0.03, 0.  , 0.  , 0.  , 0.97]],\n",
       "\n",
       "       [[0.  , 0.  , 0.  , 0.  , 0.  , 0.  , 0.  , 0.6 , 0.  , 0.4 ]],\n",
       "\n",
       "       [[0.  , 0.  , 0.  , 0.  , 0.  , 0.06, 0.  , 0.22, 0.  , 0.72]],\n",
       "\n",
       "       [[0.  , 0.  , 0.  , 0.  , 0.  , 0.  , 0.  , 0.03, 0.  , 0.97]],\n",
       "\n",
       "       [[0.  , 0.  , 0.  , 0.  , 0.  , 0.  , 0.  , 0.01, 0.  , 0.99]],\n",
       "\n",
       "       [[0.  , 0.  , 0.  , 0.  , 0.  , 0.07, 0.  , 0.12, 0.  , 0.81]],\n",
       "\n",
       "       [[0.  , 0.  , 0.  , 0.  , 0.  , 0.03, 0.  , 0.01, 0.  , 0.96]],\n",
       "\n",
       "       [[0.  , 0.  , 0.  , 0.  , 0.  , 0.4 , 0.  , 0.  , 0.  , 0.6 ]],\n",
       "\n",
       "       [[0.  , 0.  , 0.  , 0.  , 0.  , 0.  , 0.  , 0.03, 0.  , 0.96]],\n",
       "\n",
       "       [[0.  , 0.  , 0.  , 0.  , 0.  , 0.02, 0.  , 0.42, 0.  , 0.56]],\n",
       "\n",
       "       [[0.  , 0.  , 0.  , 0.  , 0.  , 0.49, 0.  , 0.12, 0.  , 0.4 ]],\n",
       "\n",
       "       [[0.  , 0.  , 0.  , 0.  , 0.  , 0.95, 0.  , 0.02, 0.  , 0.03]],\n",
       "\n",
       "       [[0.  , 0.  , 0.  , 0.  , 0.  , 0.  , 0.  , 0.  , 0.  , 0.99]],\n",
       "\n",
       "       [[0.  , 0.  , 0.  , 0.  , 0.  , 0.03, 0.  , 0.09, 0.  , 0.88]],\n",
       "\n",
       "       [[0.  , 0.  , 0.  , 0.  , 0.  , 0.  , 0.  , 0.01, 0.  , 0.99]],\n",
       "\n",
       "       [[0.  , 0.  , 0.  , 0.  , 0.  , 0.76, 0.  , 0.07, 0.  , 0.17]],\n",
       "\n",
       "       [[0.  , 0.  , 0.  , 0.  , 0.  , 0.01, 0.  , 0.02, 0.  , 0.97]],\n",
       "\n",
       "       [[0.  , 0.  , 0.  , 0.  , 0.  , 0.46, 0.  , 0.42, 0.  , 0.12]],\n",
       "\n",
       "       [[0.  , 0.  , 0.  , 0.  , 0.  , 0.36, 0.  , 0.03, 0.  , 0.61]],\n",
       "\n",
       "       [[0.  , 0.  , 0.  , 0.  , 0.  , 0.03, 0.  , 0.01, 0.  , 0.96]],\n",
       "\n",
       "       [[0.  , 0.  , 0.  , 0.  , 0.  , 0.01, 0.  , 0.02, 0.  , 0.97]],\n",
       "\n",
       "       [[0.  , 0.  , 0.  , 0.  , 0.  , 0.01, 0.  , 0.22, 0.  , 0.77]],\n",
       "\n",
       "       [[0.  , 0.  , 0.  , 0.  , 0.  , 0.02, 0.  , 0.03, 0.  , 0.95]],\n",
       "\n",
       "       [[0.  , 0.  , 0.  , 0.  , 0.  , 0.52, 0.  , 0.01, 0.  , 0.47]],\n",
       "\n",
       "       [[0.  , 0.  , 0.  , 0.  , 0.  , 0.78, 0.  , 0.05, 0.  , 0.16]]],\n",
       "      dtype=float32)"
      ]
     },
     "execution_count": 93,
     "metadata": {},
     "output_type": "execute_result"
    }
   ],
   "source": [
    "np.round(y_probas[:, :1], 2)"
   ]
  },
  {
   "cell_type": "code",
   "execution_count": 94,
   "metadata": {},
   "outputs": [
    {
     "data": {
      "text/plain": [
       "array([[0.  , 0.  , 0.  , 0.  , 0.  , 0.1 , 0.  , 0.11, 0.  , 0.78]],\n",
       "      dtype=float32)"
      ]
     },
     "execution_count": 94,
     "metadata": {},
     "output_type": "execute_result"
    }
   ],
   "source": [
    "np.round(y_proba[:1], 2)"
   ]
  },
  {
   "cell_type": "code",
   "execution_count": 95,
   "metadata": {},
   "outputs": [
    {
     "data": {
      "text/plain": [
       "0.8669"
      ]
     },
     "execution_count": 95,
     "metadata": {},
     "output_type": "execute_result"
    }
   ],
   "source": [
    "y_pred = np.argmax(y_proba, axis=1)\n",
    "\n",
    "accuracy = np.sum(y_pred == y_test) / len(y_test)\n",
    "accuracy"
   ]
  },
  {
   "cell_type": "markdown",
   "metadata": {},
   "source": [
    "-------------\n",
    "Alternatively if we have layers that are not dropout, e.g., BN, we should not force training=True for them:"
   ]
  },
  {
   "cell_type": "code",
   "execution_count": 96,
   "metadata": {},
   "outputs": [],
   "source": [
    "class MCDropout(keras.layers.Dropout):\n",
    "    def call(self, inputs):\n",
    "        return super().call(inputs, training=True)\n",
    "\n",
    "class MCAlphaDropout(keras.layers.AlphaDropout):\n",
    "    def call(self, inputs):\n",
    "        return super().call(inputs, training=True)"
   ]
  },
  {
   "cell_type": "code",
   "execution_count": 97,
   "metadata": {},
   "outputs": [],
   "source": [
    "tf.random.set_seed(42)\n",
    "np.random.seed(42)"
   ]
  },
  {
   "cell_type": "code",
   "execution_count": 98,
   "metadata": {},
   "outputs": [
    {
     "name": "stdout",
     "output_type": "stream",
     "text": [
      "WARNING:tensorflow:AutoGraph could not transform <bound method MCAlphaDropout.call of <__main__.MCAlphaDropout object at 0x00000247BD9860C8>> and will run it as-is.\n",
      "Please report this to the TensorFlow team. When filing the bug, set the verbosity to 10 (on Linux, `export AUTOGRAPH_VERBOSITY=10`) and attach the full output.\n",
      "Cause: Bad argument number for Name: 3, expecting 4\n",
      "WARNING: AutoGraph could not transform <bound method MCAlphaDropout.call of <__main__.MCAlphaDropout object at 0x00000247BD9860C8>> and will run it as-is.\n",
      "Please report this to the TensorFlow team. When filing the bug, set the verbosity to 10 (on Linux, `export AUTOGRAPH_VERBOSITY=10`) and attach the full output.\n",
      "Cause: Bad argument number for Name: 3, expecting 4\n",
      "WARNING:tensorflow:AutoGraph could not transform <bound method MCAlphaDropout.call of <__main__.MCAlphaDropout object at 0x00000247BD9861C8>> and will run it as-is.\n",
      "Please report this to the TensorFlow team. When filing the bug, set the verbosity to 10 (on Linux, `export AUTOGRAPH_VERBOSITY=10`) and attach the full output.\n",
      "Cause: Bad argument number for Name: 3, expecting 4\n",
      "WARNING: AutoGraph could not transform <bound method MCAlphaDropout.call of <__main__.MCAlphaDropout object at 0x00000247BD9861C8>> and will run it as-is.\n",
      "Please report this to the TensorFlow team. When filing the bug, set the verbosity to 10 (on Linux, `export AUTOGRAPH_VERBOSITY=10`) and attach the full output.\n",
      "Cause: Bad argument number for Name: 3, expecting 4\n",
      "WARNING:tensorflow:AutoGraph could not transform <bound method MCAlphaDropout.call of <__main__.MCAlphaDropout object at 0x00000247BD986208>> and will run it as-is.\n",
      "Please report this to the TensorFlow team. When filing the bug, set the verbosity to 10 (on Linux, `export AUTOGRAPH_VERBOSITY=10`) and attach the full output.\n",
      "Cause: Bad argument number for Name: 3, expecting 4\n",
      "WARNING: AutoGraph could not transform <bound method MCAlphaDropout.call of <__main__.MCAlphaDropout object at 0x00000247BD986208>> and will run it as-is.\n",
      "Please report this to the TensorFlow team. When filing the bug, set the verbosity to 10 (on Linux, `export AUTOGRAPH_VERBOSITY=10`) and attach the full output.\n",
      "Cause: Bad argument number for Name: 3, expecting 4\n"
     ]
    }
   ],
   "source": [
    "mc_model = keras.models.Sequential([\n",
    "    MCAlphaDropout(layer.rate) if isinstance(layer, keras.layers.AlphaDropout) else layer\n",
    "    for layer in model.layers\n",
    "])"
   ]
  },
  {
   "cell_type": "code",
   "execution_count": 99,
   "metadata": {},
   "outputs": [
    {
     "name": "stdout",
     "output_type": "stream",
     "text": [
      "Model: \"sequential_19\"\n",
      "_________________________________________________________________\n",
      "Layer (type)                 Output Shape              Param #   \n",
      "=================================================================\n",
      "flatten_17 (Flatten)         (None, 784)               0         \n",
      "_________________________________________________________________\n",
      "mc_alpha_dropout (MCAlphaDro (None, 784)               0         \n",
      "_________________________________________________________________\n",
      "dense_160 (Dense)            (None, 300)               235500    \n",
      "_________________________________________________________________\n",
      "mc_alpha_dropout_1 (MCAlphaD (None, 300)               0         \n",
      "_________________________________________________________________\n",
      "dense_161 (Dense)            (None, 100)               30100     \n",
      "_________________________________________________________________\n",
      "mc_alpha_dropout_2 (MCAlphaD (None, 100)               0         \n",
      "_________________________________________________________________\n",
      "dense_162 (Dense)            (None, 10)                1010      \n",
      "=================================================================\n",
      "Total params: 266,610\n",
      "Trainable params: 266,610\n",
      "Non-trainable params: 0\n",
      "_________________________________________________________________\n"
     ]
    }
   ],
   "source": [
    "mc_model.summary()"
   ]
  },
  {
   "cell_type": "code",
   "execution_count": 100,
   "metadata": {},
   "outputs": [],
   "source": [
    "optimizer = keras.optimizers.SGD(lr=0.01, momentum=0.9, nesterov=True)\n",
    "mc_model.compile(loss=\"sparse_categorical_crossentropy\", optimizer=optimizer, metrics=[\"accuracy\"])"
   ]
  },
  {
   "cell_type": "code",
   "execution_count": 101,
   "metadata": {},
   "outputs": [],
   "source": [
    "mc_model.set_weights(model.get_weights())"
   ]
  },
  {
   "cell_type": "code",
   "execution_count": 102,
   "metadata": {},
   "outputs": [
    {
     "data": {
      "text/plain": [
       "array([[0.  , 0.  , 0.  , 0.  , 0.  , 0.08, 0.  , 0.11, 0.  , 0.81]],\n",
       "      dtype=float32)"
      ]
     },
     "execution_count": 102,
     "metadata": {},
     "output_type": "execute_result"
    }
   ],
   "source": [
    "np.round(np.mean([mc_model.predict(X_test_scaled[:1]) for sample in range(100)], axis=0), 2)"
   ]
  },
  {
   "cell_type": "markdown",
   "metadata": {},
   "source": [
    "### Max norm"
   ]
  },
  {
   "cell_type": "code",
   "execution_count": 104,
   "metadata": {},
   "outputs": [
    {
     "name": "stdout",
     "output_type": "stream",
     "text": [
      "Train on 55000 samples, validate on 5000 samples\n",
      "Epoch 1/2\n",
      "55000/55000 [==============================] - 5s 89us/sample - loss: 0.4743 - accuracy: 0.8349 - val_loss: 0.4021 - val_accuracy: 0.8594\n",
      "Epoch 2/2\n",
      "55000/55000 [==============================] - 4s 78us/sample - loss: 0.3579 - accuracy: 0.8683 - val_loss: 0.3456 - val_accuracy: 0.8756\n"
     ]
    }
   ],
   "source": [
    "MaxNormDense = partial(keras.layers.Dense,\n",
    "                       activation=\"selu\", kernel_initializer=\"lecun_normal\",\n",
    "                       kernel_constraint=keras.constraints.max_norm(1.))\n",
    "\n",
    "model = keras.models.Sequential([\n",
    "    keras.layers.Flatten(input_shape=[28, 28]),\n",
    "    MaxNormDense(300),\n",
    "    MaxNormDense(100),\n",
    "    keras.layers.Dense(10, activation=\"softmax\")\n",
    "])\n",
    "model.compile(loss=\"sparse_categorical_crossentropy\", optimizer=\"nadam\", metrics=[\"accuracy\"])\n",
    "n_epochs = 2\n",
    "history = model.fit(X_train_scaled, y_train, epochs=n_epochs,\n",
    "                    validation_data=(X_valid_scaled, y_valid))"
   ]
  }
 ],
 "metadata": {
  "kernelspec": {
   "display_name": "Python 3",
   "language": "python",
   "name": "python3"
  },
  "language_info": {
   "codemirror_mode": {
    "name": "ipython",
    "version": 3
   },
   "file_extension": ".py",
   "mimetype": "text/x-python",
   "name": "python",
   "nbconvert_exporter": "python",
   "pygments_lexer": "ipython3",
   "version": "3.7.8"
  }
 },
 "nbformat": 4,
 "nbformat_minor": 4
}
